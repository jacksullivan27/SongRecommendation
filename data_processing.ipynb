{
 "cells": [
  {
   "cell_type": "markdown",
   "metadata": {},
   "source": [
    "## Data Processing Work and Visualizations\n",
    "\n",
    "In this notebook I process the original dataset and create visualizations to help understand the data we are working with"
   ]
  },
  {
   "cell_type": "code",
   "execution_count": 13,
   "metadata": {},
   "outputs": [],
   "source": [
    "import pandas as pd\n",
    "import numpy as np\n",
    "from sklearn.preprocessing import MinMaxScaler\n",
    "import matplotlib.pyplot as plt\n",
    "from sklearn.manifold import TSNE\n",
    "import seaborn as sns\n",
    "import plotly.express as px\n",
    "import category_encoders as ce"
   ]
  },
  {
   "cell_type": "code",
   "execution_count": 24,
   "metadata": {},
   "outputs": [
    {
     "data": {
      "text/html": [
       "<div>\n",
       "<style scoped>\n",
       "    .dataframe tbody tr th:only-of-type {\n",
       "        vertical-align: middle;\n",
       "    }\n",
       "\n",
       "    .dataframe tbody tr th {\n",
       "        vertical-align: top;\n",
       "    }\n",
       "\n",
       "    .dataframe thead th {\n",
       "        text-align: right;\n",
       "    }\n",
       "</style>\n",
       "<table border=\"1\" class=\"dataframe\">\n",
       "  <thead>\n",
       "    <tr style=\"text-align: right;\">\n",
       "      <th></th>\n",
       "      <th>master_idx</th>\n",
       "      <th>artist_name</th>\n",
       "      <th>track_name</th>\n",
       "      <th>track_id</th>\n",
       "      <th>year</th>\n",
       "      <th>popularity</th>\n",
       "      <th>genre_0</th>\n",
       "      <th>genre_1</th>\n",
       "      <th>genre_2</th>\n",
       "      <th>genre_3</th>\n",
       "      <th>...</th>\n",
       "      <th>mode</th>\n",
       "      <th>speechiness</th>\n",
       "      <th>acousticness</th>\n",
       "      <th>instrumentalness</th>\n",
       "      <th>liveness</th>\n",
       "      <th>valence</th>\n",
       "      <th>tempo</th>\n",
       "      <th>duration_ms</th>\n",
       "      <th>time_signature</th>\n",
       "      <th>genre</th>\n",
       "    </tr>\n",
       "  </thead>\n",
       "  <tbody>\n",
       "    <tr>\n",
       "      <th>0</th>\n",
       "      <td>0</td>\n",
       "      <td>Jason Mraz</td>\n",
       "      <td>I Won't Give Up</td>\n",
       "      <td>53QF56cjZA9RTuuMZDrSA6</td>\n",
       "      <td>2012</td>\n",
       "      <td>0.68</td>\n",
       "      <td>0</td>\n",
       "      <td>0</td>\n",
       "      <td>0</td>\n",
       "      <td>0</td>\n",
       "      <td>...</td>\n",
       "      <td>1</td>\n",
       "      <td>0.0429</td>\n",
       "      <td>0.6940</td>\n",
       "      <td>0.000000</td>\n",
       "      <td>0.1150</td>\n",
       "      <td>0.139</td>\n",
       "      <td>0.533639</td>\n",
       "      <td>0.041201</td>\n",
       "      <td>3</td>\n",
       "      <td>acoustic</td>\n",
       "    </tr>\n",
       "    <tr>\n",
       "      <th>1</th>\n",
       "      <td>1</td>\n",
       "      <td>Jason Mraz</td>\n",
       "      <td>93 Million Miles</td>\n",
       "      <td>1s8tP3jP4GZcyHDsjvw218</td>\n",
       "      <td>2012</td>\n",
       "      <td>0.50</td>\n",
       "      <td>0</td>\n",
       "      <td>0</td>\n",
       "      <td>0</td>\n",
       "      <td>0</td>\n",
       "      <td>...</td>\n",
       "      <td>1</td>\n",
       "      <td>0.0258</td>\n",
       "      <td>0.4770</td>\n",
       "      <td>0.000014</td>\n",
       "      <td>0.0974</td>\n",
       "      <td>0.515</td>\n",
       "      <td>0.560744</td>\n",
       "      <td>0.037086</td>\n",
       "      <td>4</td>\n",
       "      <td>acoustic</td>\n",
       "    </tr>\n",
       "    <tr>\n",
       "      <th>2</th>\n",
       "      <td>2</td>\n",
       "      <td>Joshua Hyslop</td>\n",
       "      <td>Do Not Let Me Go</td>\n",
       "      <td>7BRCa8MPiyuvr2VU3O9W0F</td>\n",
       "      <td>2012</td>\n",
       "      <td>0.57</td>\n",
       "      <td>0</td>\n",
       "      <td>0</td>\n",
       "      <td>0</td>\n",
       "      <td>0</td>\n",
       "      <td>...</td>\n",
       "      <td>1</td>\n",
       "      <td>0.0323</td>\n",
       "      <td>0.3380</td>\n",
       "      <td>0.000050</td>\n",
       "      <td>0.0895</td>\n",
       "      <td>0.145</td>\n",
       "      <td>0.559344</td>\n",
       "      <td>0.027149</td>\n",
       "      <td>4</td>\n",
       "      <td>acoustic</td>\n",
       "    </tr>\n",
       "    <tr>\n",
       "      <th>3</th>\n",
       "      <td>3</td>\n",
       "      <td>Boyce Avenue</td>\n",
       "      <td>Fast Car</td>\n",
       "      <td>63wsZUhUZLlh1OsyrZq7sz</td>\n",
       "      <td>2012</td>\n",
       "      <td>0.58</td>\n",
       "      <td>0</td>\n",
       "      <td>0</td>\n",
       "      <td>0</td>\n",
       "      <td>0</td>\n",
       "      <td>...</td>\n",
       "      <td>1</td>\n",
       "      <td>0.0363</td>\n",
       "      <td>0.8070</td>\n",
       "      <td>0.000000</td>\n",
       "      <td>0.0797</td>\n",
       "      <td>0.508</td>\n",
       "      <td>0.819867</td>\n",
       "      <td>0.052298</td>\n",
       "      <td>4</td>\n",
       "      <td>acoustic</td>\n",
       "    </tr>\n",
       "    <tr>\n",
       "      <th>4</th>\n",
       "      <td>4</td>\n",
       "      <td>Andrew Belle</td>\n",
       "      <td>Sky's Still Blue</td>\n",
       "      <td>6nXIYClvJAfi6ujLiKqEq8</td>\n",
       "      <td>2012</td>\n",
       "      <td>0.54</td>\n",
       "      <td>0</td>\n",
       "      <td>0</td>\n",
       "      <td>0</td>\n",
       "      <td>0</td>\n",
       "      <td>...</td>\n",
       "      <td>0</td>\n",
       "      <td>0.0302</td>\n",
       "      <td>0.0726</td>\n",
       "      <td>0.019300</td>\n",
       "      <td>0.1100</td>\n",
       "      <td>0.217</td>\n",
       "      <td>0.687475</td>\n",
       "      <td>0.041920</td>\n",
       "      <td>4</td>\n",
       "      <td>acoustic</td>\n",
       "    </tr>\n",
       "  </tbody>\n",
       "</table>\n",
       "<p>5 rows × 27 columns</p>\n",
       "</div>"
      ],
      "text/plain": [
       "   master_idx    artist_name        track_name                track_id  year  \\\n",
       "0           0     Jason Mraz   I Won't Give Up  53QF56cjZA9RTuuMZDrSA6  2012   \n",
       "1           1     Jason Mraz  93 Million Miles  1s8tP3jP4GZcyHDsjvw218  2012   \n",
       "2           2  Joshua Hyslop  Do Not Let Me Go  7BRCa8MPiyuvr2VU3O9W0F  2012   \n",
       "3           3   Boyce Avenue          Fast Car  63wsZUhUZLlh1OsyrZq7sz  2012   \n",
       "4           4   Andrew Belle  Sky's Still Blue  6nXIYClvJAfi6ujLiKqEq8  2012   \n",
       "\n",
       "   popularity  genre_0  genre_1  genre_2  genre_3  ...  mode  speechiness  \\\n",
       "0        0.68        0        0        0        0  ...     1       0.0429   \n",
       "1        0.50        0        0        0        0  ...     1       0.0258   \n",
       "2        0.57        0        0        0        0  ...     1       0.0323   \n",
       "3        0.58        0        0        0        0  ...     1       0.0363   \n",
       "4        0.54        0        0        0        0  ...     0       0.0302   \n",
       "\n",
       "   acousticness  instrumentalness  liveness  valence     tempo  duration_ms  \\\n",
       "0        0.6940          0.000000    0.1150    0.139  0.533639     0.041201   \n",
       "1        0.4770          0.000014    0.0974    0.515  0.560744     0.037086   \n",
       "2        0.3380          0.000050    0.0895    0.145  0.559344     0.027149   \n",
       "3        0.8070          0.000000    0.0797    0.508  0.819867     0.052298   \n",
       "4        0.0726          0.019300    0.1100    0.217  0.687475     0.041920   \n",
       "\n",
       "   time_signature     genre  \n",
       "0               3  acoustic  \n",
       "1               4  acoustic  \n",
       "2               4  acoustic  \n",
       "3               4  acoustic  \n",
       "4               4  acoustic  \n",
       "\n",
       "[5 rows x 27 columns]"
      ]
     },
     "execution_count": 24,
     "metadata": {},
     "output_type": "execute_result"
    }
   ],
   "source": [
    "df = pd.read_csv(r'C:\\Users\\jsull\\UW Work\\Stat 451\\Project\\betterspotify.csv') # load the data I got from kaggle\n",
    "df = df.drop_duplicates(subset=['track_id']) # remove duplicate records from the data\n",
    "df = df[df['genre'] != 'sleep'] # get rid of ambient sleep music from the data set\n",
    "scaler = MinMaxScaler() # min-max scale the columns that are not yet in this format\n",
    "columns_to_scale = ['loudness', 'tempo', 'duration_ms', 'popularity']\n",
    "df[columns_to_scale] = scaler.fit_transform(df[columns_to_scale])\n",
    "# df['genre'] = df['genre'].replace(genre_mapping) # map genres to the generalized dictionary categories above\n",
    "genres = df['genre']\n",
    "\n",
    "encoder = ce.binary.BinaryEncoder(cols=['genre']) # binary encode the genre column\n",
    "df = encoder.fit_transform(df)\n",
    "df = pd.concat([df, genres], axis=1) # add the genre column back to the data frame\n",
    "\n",
    "df = df.rename(columns={'Unnamed: 0': 'master_idx'}) # rename the index column\n",
    "pop = df.pop('popularity') \n",
    "df.insert(5, \"popularity\", pop) # move the popularity column up for readability\n",
    "df.head()"
   ]
  },
  {
   "cell_type": "code",
   "execution_count": 26,
   "metadata": {},
   "outputs": [],
   "source": [
    "# df.to_csv(r'C:\\Users\\jsull\\UW Work\\Stat 451\\Project\\processed_data.csv')"
   ]
  },
  {
   "cell_type": "markdown",
   "metadata": {},
   "source": [
    "Data exploration"
   ]
  },
  {
   "cell_type": "markdown",
   "metadata": {},
   "source": [
    "# Visualizations"
   ]
  },
  {
   "cell_type": "code",
   "execution_count": 19,
   "metadata": {},
   "outputs": [
    {
     "data": {
      "image/png": "[encoded data removed]",
      "text/plain": [
       "<Figure size 800x800 with 1 Axes>"
      ]
     },
     "metadata": {},
     "output_type": "display_data"
    }
   ],
   "source": [
    "songs_to_highlight = {\n",
    "    \"Ms. Jackson\": \"OutKast\",\n",
    "    \"Cruel Summer\": \"Taylor Swift\",\n",
    "    \"Party in the U.S.A.\": \"Miley Cyrus\",\n",
    "    \"One Dance\": \"Drake\",\n",
    "    \"Chicken Fried\": \"Zac Brown Band\"\n",
    "}\n",
    "\n",
    "floats = df.select_dtypes(include=[float]).columns\n",
    "\n",
    "highlight_mask = df.apply(lambda x: (x['track_name'], x['artist_name']) in songs_to_highlight.items(), axis=1)\n",
    "highlighted_songs = df[highlight_mask]\n",
    "\n",
    "other_songs = df[~highlight_mask].sample(n=500 - len(highlighted_songs))\n",
    "\n",
    "b = pd.concat([highlighted_songs, other_songs])\n",
    "\n",
    "model = TSNE(n_components=3, random_state=0)\n",
    "tsne_data = model.fit_transform(b[floats])\n",
    "\n",
    "fig = plt.figure(figsize=(8, 8))\n",
    "ax = fig.add_subplot(111, projection='3d')\n",
    "\n",
    "ax.scatter(tsne_data[len(highlighted_songs):, 0], tsne_data[len(highlighted_songs):, 1], tsne_data[len(highlighted_songs):, 2], alpha=0.5)\n",
    "\n",
    "ax.scatter(tsne_data[:len(highlighted_songs), 0], tsne_data[:len(highlighted_songs), 1], tsne_data[:len(highlighted_songs), 2], c='r', label='Highlighted Songs')\n",
    "\n",
    "for i, (song, artist) in enumerate(songs_to_highlight.items()):\n",
    "    ax.text(tsne_data[i, 0], tsne_data[i, 1], tsne_data[i, 2], f'{song} by {artist}', color='red')\n",
    "\n",
    "ax.set_xlabel('Dimension 1')\n",
    "ax.set_ylabel('Dimension 2')\n",
    "ax.set_zlabel('Dimension 3')\n",
    "\n",
    "ax.legend()\n",
    "\n",
    "plt.show()"
   ]
  },
  {
   "cell_type": "markdown",
   "metadata": {},
   "source": [
    "Below is an interactive 3D plot of the TSNE dimensionality reduction of the data."
   ]
  },
  {
   "cell_type": "code",
   "execution_count": 22,
   "metadata": {},
   "outputs": [
    {
     "data": {
      "application/vnd.plotly.v1+json": {
       "config": {
        "plotlyServerURL": "https://plot.ly"
       },
       "data": [
        {
         "hovertemplate": "Dimension 1=%{x}<br>Dimension 2=%{y}<br>Dimension 3=%{z}<extra></extra>",
         "legendgroup": "",
         "marker": {
          "color": "#636efa",
          "symbol": "circle"
         },
         "mode": "markers",
         "name": "",
         "scene": "scene",
         "showlegend": false,
         "type": "scatter3d",
         "x": [
          -4.546890735626221,
          -1.54659903049469,
          -4.789539813995361,
          -5.349763870239258,
          -7.659658432006836,
          -1.989127516746521,
          -3.143199920654297,
          0.9897251725196838,
          -6.270707607269287,
          6.60665225982666,
          -5.577235698699951,
          -0.8076827526092529,
          -7.225039958953857,
          2.958219051361084,
          -2.1069531440734863,
          6.144848346710205,
          6.74716329574585,
          -0.46220025420188904,
          6.152395248413086,
          -2.2102303504943848,
          -8.387489318847656,
          2.69533371925354,
          -5.1996588706970215,
          -5.272928237915039,
          0.4529546797275543,
          -7.50140380859375,
          -0.25738468766212463,
          -2.0499401092529297,
          5.428133010864258,
          -4.330068588256836,
          -3.206800699234009,
          4.558043003082275,
          -0.45400428771972656,
          3.202679395675659,
          -3.624089241027832,
          -1.6004383563995361,
          5.7643938064575195,
          -4.608939170837402,
          1.5443241596221924,
          1.6633769273757935,
          1.3087856769561768,
          -3.9728195667266846,
          -5.5947957038879395,
          -7.250685214996338,
          6.933840274810791,
          5.566169261932373,
          -5.63698148727417,
          -5.255438327789307,
          -3.9620628356933594,
          10.471930503845215,
          -1.0348362922668457,
          5.757739067077637,
          -6.756826400756836,
          -5.140657901763916,
          9.473190307617188,
          0.6424159407615662,
          -6.404079914093018,
          1.4475343227386475,
          8.784777641296387,
          -2.981194496154785,
          -4.279078006744385,
          8.61004638671875,
          -1.1629552841186523,
          9.768660545349121,
          -1.9126977920532227,
          -7.033815860748291,
          -2.3956565856933594,
          -2.4637792110443115,
          5.788095951080322,
          0.23756365478038788,
          -6.235088348388672,
          -3.3089442253112793,
          7.348498344421387,
          -1.924256443977356,
          -3.670289993286133,
          1.9235759973526,
          4.707436561584473,
          9.610390663146973,
          -4.715526103973389,
          -0.027372006326913834,
          -3.6223316192626953,
          1.832900881767273,
          -0.10639102011919022,
          1.5018699169158936,
          10.99438762664795,
          -5.309683322906494,
          -2.5511631965637207,
          -1.3871912956237793,
          2.3375844955444336,
          2.9256160259246826,
          3.9182631969451904,
          4.092692852020264,
          10.298981666564941,
          6.185882568359375,
          7.286330223083496,
          7.092855453491211,
          -3.516087532043457,
          -3.795149803161621,
          0.16010743379592896,
          -4.518098831176758,
          4.558715343475342,
          -0.42439767718315125,
          2.561798095703125,
          -3.388047695159912,
          7.442999362945557,
          5.14926815032959,
          2.3755409717559814,
          -2.4733424186706543,
          -7.206696510314941,
          -1.9226268529891968,
          -4.697691917419434,
          -5.5494489669799805,
          0.24993526935577393,
          -6.179145336151123,
          -1.3028651475906372,
          2.4951016902923584,
          3.6631765365600586,
          -0.23452483117580414,
          -4.719900131225586,
          -1.821648120880127,
          -1.685970664024353,
          -3.0294880867004395,
          0.6536770462989807,
          -4.881560325622559,
          -0.09391221404075623,
          1.6644612550735474,
          -2.9624550342559814,
          -1.6256252527236938,
          -6.698448181152344,
          3.965543508529663,
          0.41888535022735596,
          -1.2805737257003784,
          -4.638655185699463,
          3.86019229888916,
          -5.472589015960693,
          5.477902889251709,
          3.090181827545166,
          2.838576078414917,
          -2.4198873043060303,
          -7.627575874328613,
          -5.789348602294922,
          -2.1512839794158936,
          9.691607475280762,
          -1.5497013330459595,
          2.8753345012664795,
          -5.033389568328857,
          0.5280677080154419,
          -2.5542800426483154,
          4.778937339782715,
          -4.208417892456055,
          -5.61305046081543,
          -0.2615165710449219,
          -6.414818286895752,
          -4.417118549346924,
          -6.378039360046387,
          -4.345821857452393,
          -0.5116063356399536,
          11.139456748962402,
          -4.638363838195801,
          2.499396324157715,
          4.888111114501953,
          -0.6254150867462158,
          -4.23883581161499,
          -3.2097513675689697,
          -1.5482608079910278,
          -1.7598742246627808,
          0.7098525166511536,
          10.28567886352539,
          2.8079116344451904,
          -1.0291852951049805,
          1.0688937902450562,
          -1.583103895187378,
          3.7140052318573,
          3.853980541229248,
          -6.324708461761475,
          -1.4031832218170166,
          -6.133502006530762,
          1.1892879009246826,
          -1.6515449285507202,
          -4.930362224578857,
          -1.0452420711517334,
          -0.9920287728309631,
          3.0303478240966797,
          -1.1073335409164429,
          -4.441239356994629,
          -1.2642908096313477,
          -2.2610011100769043,
          -0.2507809102535248,
          4.535226821899414,
          3.3697264194488525,
          -6.841485500335693,
          4.104589939117432,
          -0.13816343247890472,
          2.715919017791748,
          -1.8279144763946533,
          -3.790766954421997,
          -0.625984787940979,
          1.8234343528747559,
          0.12708452343940735,
          -0.7319327592849731,
          4.831987380981445,
          0.9361047744750977,
          4.882965564727783,
          7.745016098022461,
          1.0996840000152588,
          3.4498260021209717,
          -1.2765982151031494,
          -2.9897375106811523,
          1.5764248371124268,
          1.8564410209655762,
          -7.606661796569824,
          -4.7864484786987305,
          -5.2319817543029785,
          3.7667274475097656,
          3.782945156097412,
          1.1402921676635742,
          1.6997076272964478,
          -6.887749195098877,
          10.043081283569336,
          8.821258544921875,
          -0.600967526435852,
          -1.800606369972229,
          2.4513967037200928,
          4.829771041870117,
          1.0267505645751953,
          -7.826483249664307,
          -4.586520671844482,
          3.116868257522583,
          4.157955169677734,
          2.8501577377319336,
          7.530126094818115,
          -2.5193169116973877,
          -1.7902474403381348,
          -1.1207773685455322,
          -4.4527716636657715,
          -3.852619171142578,
          5.466282844543457,
          3.736617088317871,
          -6.246113300323486,
          10.720540046691895,
          -0.07676246017217636,
          -5.965291976928711,
          -5.596109867095947,
          -6.164758205413818,
          -3.9315154552459717,
          1.5150091648101807,
          1.3812237977981567,
          -6.148648262023926,
          3.3454837799072266,
          10.784228324890137,
          -4.3095383644104,
          10.467063903808594,
          5.248682022094727,
          -6.416040897369385,
          -5.158992290496826,
          -3.8846137523651123,
          -5.451289653778076,
          1.7556297779083252,
          -3.316007614135742,
          8.720712661743164,
          -1.39626944065094,
          -0.32925885915756226,
          -5.37071418762207,
          -4.210916996002197,
          4.938068389892578,
          -2.4147961139678955,
          -4.53727912902832,
          0.1466449350118637,
          -3.204289436340332,
          -6.006315231323242,
          5.781404972076416,
          3.544353485107422,
          -1.839411735534668,
          10.5258207321167,
          3.044508934020996,
          -6.590781211853027,
          4.073362827301025,
          0.714592456817627,
          -3.9869484901428223,
          -5.2675323486328125,
          3.9408106803894043,
          -4.0823445320129395,
          7.272384166717529,
          10.058802604675293,
          -5.423087120056152,
          3.722752809524536,
          -5.794234275817871,
          -4.269875526428223,
          3.014829635620117,
          9.147275924682617,
          -5.052958011627197,
          -4.467369079589844,
          -6.223875522613525,
          -3.201791286468506,
          -1.695479393005371,
          -0.809489905834198,
          6.81013298034668,
          4.752710342407227,
          1.4299346208572388,
          9.297124862670898,
          9.187239646911621,
          0.6735261678695679,
          -0.788341224193573,
          -4.649651527404785,
          -6.294233798980713,
          -0.9164214730262756,
          -6.804554462432861,
          9.75958251953125,
          1.3491809368133545,
          -3.5297911167144775,
          2.0099050998687744,
          6.078099250793457,
          -4.523889541625977,
          -4.120395660400391,
          6.038546085357666,
          -4.410675525665283,
          10.869308471679688,
          -4.553858280181885,
          -4.105393886566162,
          -4.409499168395996,
          6.6552534103393555,
          -0.38386061787605286,
          10.85138988494873,
          4.8764424324035645,
          -0.4838689863681793,
          3.1258482933044434,
          3.520012617111206,
          -4.154934883117676,
          -1.240036964416504,
          10.1080961227417,
          1.7784768342971802,
          -0.11332984268665314,
          2.5497541427612305,
          1.267799735069275,
          -2.3758621215820312,
          3.28487229347229,
          3.403634786605835,
          2.6857144832611084,
          4.110204219818115,
          -7.021618843078613,
          -3.5828704833984375,
          -1.13304603099823,
          3.2642858028411865,
          -0.06891694664955139,
          9.873932838439941,
          -5.6927618980407715,
          -1.8599903583526611,
          8.686236381530762,
          4.596897125244141,
          2.2939200401306152,
          9.877115249633789,
          -7.2216105461120605,
          -5.782247066497803,
          0.8647319674491882,
          -3.060460090637207,
          -4.832905292510986,
          -4.812928199768066,
          9.823582649230957,
          6.436498641967773,
          -4.143221378326416,
          4.780682563781738,
          2.474963426589966,
          -6.24029016494751,
          9.095213890075684,
          -0.25273776054382324,
          7.456945419311523,
          5.546072006225586,
          0.3498823344707489,
          3.0777904987335205,
          2.0903496742248535,
          -1.073577642440796,
          -5.235069751739502,
          1.8547382354736328,
          3.255847692489624,
          4.185113430023193,
          6.237297534942627,
          5.9854736328125,
          3.4955434799194336,
          -2.024963855743408,
          0.8734614849090576,
          -2.934434413909912,
          -2.579432487487793,
          -2.914867401123047,
          0.7210176587104797,
          -5.666815757751465,
          7.2745513916015625,
          2.575756788253784,
          6.420862197875977,
          2.5373334884643555,
          -3.0729708671569824,
          -6.174458026885986,
          3.273365020751953,
          0.8723535537719727,
          -0.48232290148735046,
          2.105814218521118,
          3.64239239692688,
          -1.9593669176101685,
          -2.5998692512512207,
          6.529009819030762,
          1.0309045314788818,
          1.433618187904358,
          -6.536800384521484,
          -4.816510200500488,
          -4.958662033081055,
          4.5934553146362305,
          -6.66450309753418,
          -5.122213840484619,
          -6.162912368774414,
          -6.366270065307617,
          -0.9591003656387329,
          -2.009678840637207,
          -5.276798248291016,
          -3.7728123664855957,
          0.4125451445579529,
          9.422222137451172,
          -5.947658538818359,
          2.41668963432312,
          -1.9227004051208496,
          -3.079836845397949,
          2.916100263595581,
          4.133603572845459,
          2.736819267272949,
          -4.5957183837890625,
          6.377956390380859,
          -4.588335990905762,
          -0.7695307731628418,
          -4.3309102058410645,
          1.7949663400650024,
          11.202110290527344,
          4.437694549560547,
          5.598951816558838,
          9.891671180725098,
          4.201885223388672,
          6.262850761413574,
          2.5182056427001953,
          -6.494271278381348,
          -0.3752252459526062,
          -4.808867931365967,
          -6.650111675262451,
          3.6191177368164062,
          1.8947267532348633,
          1.9156240224838257,
          -6.565608978271484,
          4.492311954498291,
          2.5411276817321777,
          4.880867958068848,
          -3.7248549461364746,
          1.3714431524276733,
          -4.0152692794799805,
          -0.8519392609596252,
          -2.525367498397827,
          6.482717990875244,
          -3.8622066974639893,
          0.8415391445159912,
          0.5910401940345764,
          3.193711757659912,
          -2.3046555519104004,
          -5.37839412689209,
          3.3500595092773438,
          -0.5474469661712646,
          4.064098834991455,
          -6.418570518493652,
          -6.323187828063965,
          5.379848480224609,
          -3.468169927597046,
          1.4518415927886963,
          -5.386440753936768,
          3.240246534347534,
          -4.458303928375244,
          3.9731061458587646,
          -2.7984023094177246,
          2.9971580505371094,
          4.021349906921387,
          -1.8976376056671143,
          -2.4238274097442627,
          -4.030272006988525,
          6.283994674682617,
          9.230834007263184,
          6.792500019073486,
          -0.8691638112068176,
          -3.8523991107940674,
          0.18363599479198456,
          -8.32828426361084,
          6.790356636047363,
          -6.299529075622559,
          6.381272315979004,
          0.06358177959918976,
          -6.628432273864746,
          6.318724155426025,
          -5.497783184051514,
          2.8195836544036865,
          -4.686773300170898,
          -4.784073829650879,
          -3.514373779296875,
          -3.434511184692383,
          6.338903427124023,
          8.453556060791016,
          -6.569399833679199,
          -1.3393936157226562,
          3.3397750854492188
         ],
         "y": [
          -0.7858545780181885,
          -7.375661849975586,
          -2.0576817989349365,
          2.074014902114868,
          -2.7810635566711426,
          -4.517033576965332,
          -6.190820217132568,
          -5.5818257331848145,
          -5.376280784606934,
          -4.471773624420166,
          -4.934020519256592,
          7.407042980194092,
          -4.196837425231934,
          8.890929222106934,
          2.273709297180176,
          -3.9672536849975586,
          -4.246676921844482,
          -4.574675559997559,
          -3.5890450477600098,
          -2.4149248600006104,
          -4.438608646392822,
          -4.171293258666992,
          -2.9561097621917725,
          -2.9482245445251465,
          9.418540954589844,
          -2.6466338634490967,
          3.2747209072113037,
          1.1478968858718872,
          7.396563529968262,
          -0.7373837232589722,
          3.300633668899536,
          -3.887099027633667,
          -5.832847595214844,
          5.543093681335449,
          -2.2170119285583496,
          1.4958709478378296,
          -3.1051883697509766,
          -3.6787614822387695,
          -0.9181456565856934,
          4.440798759460449,
          9.177867889404297,
          2.27398419380188,
          2.2376253604888916,
          -5.162631988525391,
          2.5714046955108643,
          7.52379846572876,
          -4.897312641143799,
          2.412851572036743,
          -1.315643310546875,
          4.074835777282715,
          -2.457231283187866,
          6.800048351287842,
          0.694256067276001,
          2.182459831237793,
          3.4441404342651367,
          -7.569828033447266,
          -5.638391017913818,
          5.211126327514648,
          2.112030029296875,
          -2.1498684883117676,
          -2.084139108657837,
          2.7222700119018555,
          8.131776809692383,
          4.1373982429504395,
          -1.6419004201889038,
          -5.339017391204834,
          -6.244978904724121,
          3.0208022594451904,
          3.0742266178131104,
          -4.467625141143799,
          -4.469742298126221,
          -1.7624320983886719,
          2.9362807273864746,
          -0.6169450879096985,
          2.9308414459228516,
          -3.0526247024536133,
          6.871928691864014,
          3.0646800994873047,
          0.9076104164123535,
          -5.754202365875244,
          -1.5733929872512817,
          -7.563117980957031,
          -5.184376239776611,
          -4.776570796966553,
          3.5468671321868896,
          1.4480246305465698,
          -1.8788704872131348,
          -0.007367652840912342,
          5.454893589019775,
          5.465859413146973,
          7.24191427230835,
          -5.147292613983154,
          3.07024884223938,
          5.920746326446533,
          -3.2637667655944824,
          5.9913482666015625,
          -1.5747517347335815,
          2.017841339111328,
          -1.8689360618591309,
          -1.1836680173873901,
          -3.639025926589966,
          7.734262466430664,
          9.106932640075684,
          -1.0372488498687744,
          2.19647216796875,
          7.3292155265808105,
          8.740314483642578,
          1.543423056602478,
          0.16051645576953888,
          -2.022899866104126,
          -3.943408250808716,
          2.07259464263916,
          -7.201953887939453,
          0.693085253238678,
          7.817279815673828,
          5.678173065185547,
          -1.3449482917785645,
          -3.0325446128845215,
          -8.072807312011719,
          1.1811437606811523,
          0.6937403678894043,
          3.196837902069092,
          -1.1114158630371094,
          2.6710872650146484,
          -0.23606903851032257,
          9.626705169677734,
          3.508086919784546,
          -4.9121012687683105,
          2.171396017074585,
          6.595168590545654,
          -3.5533108711242676,
          -3.2318520545959473,
          -0.6965434551239014,
          9.238722801208496,
          -2.566126585006714,
          1.504325032234192,
          9.120148658752441,
          -4.9697465896606445,
          -2.9033870697021484,
          -2.9988327026367188,
          1.8773338794708252,
          0.6396386623382568,
          2.869969367980957,
          -6.223938465118408,
          -2.659728527069092,
          0.9549267888069153,
          9.554356575012207,
          2.5220158100128174,
          -2.3254783153533936,
          -6.475264549255371,
          -4.1335930824279785,
          -2.998546600341797,
          -3.8694067001342773,
          -0.15539740025997162,
          3.2635669708251953,
          -5.730601787567139,
          0.3517935872077942,
          3.753465414047241,
          1.0983092784881592,
          7.565016746520996,
          -4.326622009277344,
          1.5697555541992188,
          -6.148845195770264,
          -1.9136052131652832,
          -5.978769779205322,
          -2.392627239227295,
          -2.991663694381714,
          3.0611088275909424,
          -6.355945110321045,
          1.3789187669754028,
          -7.5949506759643555,
          -7.647060871124268,
          -6.009362697601318,
          6.326408863067627,
          -5.917348384857178,
          3.1834428310394287,
          -4.2294020652771,
          5.158803939819336,
          -0.36694180965423584,
          -3.9575088024139404,
          -2.5612502098083496,
          -0.024148229509592056,
          7.4183502197265625,
          -8.242627143859863,
          -5.0942840576171875,
          -4.624771595001221,
          -0.6930609345436096,
          6.146254539489746,
          7.087460041046143,
          5.200745105743408,
          -4.38254451751709,
          -2.8964152336120605,
          -4.567131042480469,
          7.103956699371338,
          -2.0153379440307617,
          2.5548555850982666,
          7.216917037963867,
          -4.422638893127441,
          -4.263759136199951,
          -7.8936238288879395,
          -6.112259387969971,
          9.350956916809082,
          1.0577975511550903,
          1.131810188293457,
          6.230390548706055,
          8.934537887573242,
          -4.009514808654785,
          3.494361400604248,
          9.293880462646484,
          7.540556907653809,
          -2.6949164867401123,
          -7.820500373840332,
          -6.332683563232422,
          8.044768333435059,
          7.821300506591797,
          9.484220504760742,
          -3.355222225189209,
          -4.508469581604004,
          3.7564728260040283,
          2.342050075531006,
          4.127715110778809,
          -1.264701008796692,
          7.488040924072266,
          -6.558923721313477,
          7.577816963195801,
          -4.887106418609619,
          -3.464808940887451,
          9.209400177001953,
          5.816893100738525,
          -3.669389247894287,
          -3.577510118484497,
          3.074796438217163,
          0.6843292117118835,
          1.152506947517395,
          -0.8938320875167847,
          1.8888875246047974,
          -4.629137992858887,
          0.3964730501174927,
          -4.737321376800537,
          2.5584726333618164,
          -5.574526786804199,
          -3.1020359992980957,
          -3.654066324234009,
          -4.816876411437988,
          -1.602157711982727,
          -4.656172752380371,
          7.6531476974487305,
          2.591426372528076,
          7.3857927322387695,
          3.140501022338867,
          1.9063819646835327,
          4.18414306640625,
          3.073723316192627,
          2.362445831298828,
          2.4911675453186035,
          3.0562477111816406,
          3.637338399887085,
          6.656532287597656,
          2.5457775592803955,
          5.303741931915283,
          -7.836437225341797,
          -6.269801139831543,
          2.2547450065612793,
          2.6720163822174072,
          -5.106298446655273,
          -6.195413112640381,
          -3.5427706241607666,
          -4.5208420753479,
          2.2186410427093506,
          -2.9500577449798584,
          7.219738960266113,
          9.046770095825195,
          -6.990822792053223,
          2.8569397926330566,
          -6.424442291259766,
          -5.598321914672852,
          7.657364845275879,
          -7.081045150756836,
          -1.5150226354599,
          -3.849219560623169,
          7.303375720977783,
          -5.1862874031066895,
          4.441559314727783,
          3.076356887817383,
          1.322191834449768,
          5.836733341217041,
          -5.362071514129639,
          -2.271050214767456,
          8.70819091796875,
          1.949249267578125,
          3.6505188941955566,
          -0.0392482653260231,
          -4.535531044006348,
          1.8462605476379395,
          -7.955297946929932,
          3.6746180057525635,
          2.278000593185425,
          -4.16673469543457,
          -5.33920431137085,
          4.817595958709717,
          3.498779773712158,
          -3.5771453380584717,
          0.7146845459938049,
          -2.141310691833496,
          -4.577805995941162,
          -2.787230968475342,
          -0.5983702540397644,
          2.2858726978302,
          6.9854817390441895,
          -0.5846850872039795,
          9.184940338134766,
          5.495812892913818,
          3.7680602073669434,
          1.4618608951568604,
          -4.726974010467529,
          -7.117672920227051,
          2.8262810707092285,
          -1.5454421043395996,
          2.449392795562744,
          1.3971470594406128,
          2.300414562225342,
          -5.655327320098877,
          4.242503643035889,
          -4.515933036804199,
          0.37941330671310425,
          7.703351974487305,
          -2.033552885055542,
          2.5881881713867188,
          -7.1915717124938965,
          2.480133056640625,
          -4.983806610107422,
          0.7238456606864929,
          7.939563751220703,
          7.457859039306641,
          -1.8693658113479614,
          9.27796745300293,
          -4.545844078063965,
          7.125898361206055,
          -5.336032867431641,
          -6.011427879333496,
          -2.480368137359619,
          -5.037714004516602,
          -1.9509257078170776,
          -2.777592182159424,
          3.4197092056274414,
          0.3821845054626465,
          1.041831374168396,
          5.429069995880127,
          -4.685070514678955,
          -4.152713298797607,
          2.1181631088256836,
          -4.1835126876831055,
          -3.7581324577331543,
          -2.555089235305786,
          4.065975666046143,
          -6.0895304679870605,
          3.431252956390381,
          3.8018789291381836,
          -4.801664352416992,
          1.740900993347168,
          3.227679967880249,
          -3.7005908489227295,
          -5.290981769561768,
          2.121474027633667,
          -7.904634475708008,
          0.8912653923034668,
          1.869359016418457,
          -4.851360321044922,
          -4.082512378692627,
          -4.589519500732422,
          6.067100524902344,
          -3.0336759090423584,
          9.221281051635742,
          7.845568656921387,
          -4.580080032348633,
          3.7997617721557617,
          -3.185595989227295,
          8.119588851928711,
          -3.588902711868286,
          -5.11682653427124,
          -1.876417636871338,
          2.531151533126831,
          -6.131139755249023,
          9.698845863342285,
          1.143337368965149,
          6.079366207122803,
          7.357424259185791,
          -3.294152021408081,
          7.355897903442383,
          3.135122776031494,
          2.436829090118408,
          5.959639549255371,
          -1.2557834386825562,
          5.351550579071045,
          8.814705848693848,
          -2.6471245288848877,
          -6.732021331787109,
          1.1298307180404663,
          -4.126666069030762,
          -5.047709941864014,
          -4.693220138549805,
          1.9759901762008667,
          -3.519221544265747,
          -3.69675350189209,
          -3.1432042121887207,
          -4.666162490844727,
          -4.222697734832764,
          -5.0385518074035645,
          1.9348652362823486,
          0.3157959282398224,
          -4.455443859100342,
          -4.976240634918213,
          2.502605438232422,
          -5.016712188720703,
          2.8122541904449463,
          -5.433801174163818,
          8.767410278320312,
          -0.8408270478248596,
          0.3469606935977936,
          -6.284942626953125,
          6.978723526000977,
          7.005427360534668,
          3.5041866302490234,
          -4.113318920135498,
          -2.6345479488372803,
          -4.315077304840088,
          -2.7441775798797607,
          9.050384521484375,
          3.6704235076904297,
          6.99033260345459,
          -4.060891628265381,
          2.598017930984497,
          0.9200662970542908,
          2.188385486602783,
          -6.842381477355957,
          -5.017519474029541,
          -3.620738983154297,
          -7.997725486755371,
          0.8304117321968079,
          6.251173973083496,
          7.634562015533447,
          6.323863983154297,
          -6.324050426483154,
          7.222784519195557,
          5.591404914855957,
          7.118281841278076,
          -6.618685245513916,
          8.327763557434082,
          -2.918304204940796,
          -0.19516970217227936,
          3.098414421081543,
          -4.943798542022705,
          1.3461204767227173,
          -2.552962303161621,
          -4.876309394836426,
          6.777865409851074,
          2.301905632019043,
          0.8985470533370972,
          -3.602107048034668,
          5.723388195037842,
          5.6388421058654785,
          -4.239669322967529,
          2.1212637424468994,
          -3.645601987838745,
          -7.345954895019531,
          7.576252460479736,
          -5.862650394439697,
          7.534448623657227,
          -1.6164997816085815,
          -2.511892557144165,
          -7.493438243865967,
          -2.8438549041748047,
          7.542335033416748,
          -0.8981871604919434,
          2.3834457397460938,
          0.5945180058479309,
          -4.642380237579346,
          2.708333969116211,
          -3.6271634101867676,
          -7.159923076629639,
          1.1983020305633545,
          -7.084694862365723,
          -4.281904220581055,
          -3.0786027908325195,
          -1.8502064943313599,
          -4.746137619018555,
          -2.69228458404541,
          1.4971400499343872,
          5.775447845458984,
          -5.579246520996094,
          7.448217868804932,
          -3.790696144104004,
          1.0009442567825317,
          -4.560640811920166,
          -1.822945237159729,
          2.5674169063568115,
          2.199343204498291,
          -2.2249398231506348,
          -4.822957992553711,
          7.282600402832031
         ],
         "z": [
          -4.701887607574463,
          -2.3473312854766846,
          -5.020059108734131,
          -0.38202497363090515,
          -0.9108632206916809,
          2.034661054611206,
          -1.0337144136428833,
          -1.4473344087600708,
          -1.026180386543274,
          -0.8697159886360168,
          -2.1746346950531006,
          1.519454002380371,
          -3.251801013946533,
          3.404372453689575,
          -0.6868412494659424,
          -0.3107192814350128,
          -1.5866140127182007,
          5.6851959228515625,
          1.2212588787078857,
          -2.1233255863189697,
          -0.27642932534217834,
          -1.5224486589431763,
          4.080148220062256,
          0.5595254898071289,
          1.0598478317260742,
          -0.7453252673149109,
          -0.9696070551872253,
          -2.915489435195923,
          0.731290340423584,
          4.065774917602539,
          -3.130768060684204,
          0.34104037284851074,
          -1.959617018699646,
          -0.18816116452217102,
          3.8581008911132812,
          -1.7976912260055542,
          0.32029739022254944,
          0.62142014503479,
          -0.2763575315475464,
          -0.151532843708992,
          1.9391565322875977,
          3.0485804080963135,
          -2.8797454833984375,
          -1.9538581371307373,
          3.016667604446411,
          -0.37643197178840637,
          0.02436239831149578,
          -0.46006110310554504,
          -4.109809398651123,
          0.4379870593547821,
          3.950923204421997,
          0.8984619975090027,
          -1.6482466459274292,
          2.321359634399414,
          -0.08278056979179382,
          -0.8564207553863525,
          1.2690136432647705,
          0.6199937462806702,
          3.255183458328247,
          -2.612410068511963,
          3.677131414413452,
          1.2293871641159058,
          1.7095582485198975,
          0.20472580194473267,
          -4.451284408569336,
          -1.903896450996399,
          -2.9683170318603516,
          1.5271960496902466,
          1.900592565536499,
          5.566982746124268,
          -4.144473552703857,
          -2.325512647628784,
          3.139005661010742,
          1.0253597497940063,
          -0.42021501064300537,
          -0.5911729335784912,
          2.9948062896728516,
          0.6066687107086182,
          0.5953553318977356,
          -0.6858330965042114,
          -3.966982126235962,
          -0.9928557872772217,
          -1.6153231859207153,
          -2.0134172439575195,
          1.5863001346588135,
          -0.892741858959198,
          -4.9040961265563965,
          -2.927809715270996,
          -0.61045241355896,
          0.4877760112285614,
          -1.719104528427124,
          0.2867676913738251,
          0.7788642644882202,
          1.1761503219604492,
          -0.6869470477104187,
          0.589828610420227,
          -5.529958724975586,
          0.07958593964576721,
          1.8493387699127197,
          2.492629051208496,
          0.7088649272918701,
          1.6845030784606934,
          1.4883683919906616,
          -2.227445602416992,
          2.5167906284332275,
          0.5572152137756348,
          -2.355745792388916,
          -0.17447663843631744,
          -1.9508259296417236,
          -1.8189629316329956,
          -0.5500444769859314,
          -1.0755019187927246,
          -0.7045107483863831,
          0.2884705066680908,
          1.6698988676071167,
          -0.2481517642736435,
          -0.8763415813446045,
          5.382323741912842,
          -1.4985277652740479,
          -3.4580445289611816,
          -2.02398419380188,
          -2.4713618755340576,
          1.1474114656448364,
          -2.82454514503479,
          3.1738650798797607,
          2.6452958583831787,
          -1.0928181409835815,
          -1.381159782409668,
          2.4707353115081787,
          2.7683677673339844,
          -1.112298607826233,
          2.7098164558410645,
          2.7430787086486816,
          1.7773551940917969,
          1.2359840869903564,
          2.5277047157287598,
          -0.6799394488334656,
          -1.0868948698043823,
          -4.538675785064697,
          -1.1799808740615845,
          1.4051374197006226,
          -0.016585487872362137,
          1.5934749841690063,
          -0.6150139570236206,
          -0.8597844243049622,
          0.7506556510925293,
          0.19192558526992798,
          0.22434589266777039,
          -0.020360663533210754,
          0.7139235138893127,
          -3.7503511905670166,
          5.3622846603393555,
          -0.1642407476902008,
          4.103785037994385,
          2.410480499267578,
          -0.5200960636138916,
          -1.3611838817596436,
          0.8683807849884033,
          -0.3733113706111908,
          3.1849160194396973,
          -1.449262261390686,
          -2.4504263401031494,
          -0.4038267731666565,
          -5.1549458503723145,
          -1.0375431776046753,
          4.079191207885742,
          -1.1856060028076172,
          0.0020515406504273415,
          0.8206113576889038,
          1.7713128328323364,
          -0.7230446338653564,
          -0.5837922692298889,
          0.31688961386680603,
          1.8489584922790527,
          -1.6372944116592407,
          -0.7708838582038879,
          -0.4882127642631531,
          0.383372962474823,
          -3.5028576850891113,
          2.6991889476776123,
          4.1058573722839355,
          -2.850890636444092,
          3.5891289710998535,
          -1.686934232711792,
          1.56259286403656,
          2.3249425888061523,
          -3.0501370429992676,
          0.21127834916114807,
          2.787385940551758,
          0.0724816620349884,
          -1.4580825567245483,
          -0.6719245910644531,
          5.603267669677734,
          2.3435630798339844,
          -1.8075166940689087,
          0.5308548808097839,
          1.508790373802185,
          0.8943949341773987,
          -0.6830218434333801,
          -0.6043442487716675,
          0.2968495786190033,
          2.1302237510681152,
          2.0025458335876465,
          3.02801775932312,
          0.047289349138736725,
          1.2380393743515015,
          5.243563175201416,
          -3.0224859714508057,
          -2.0933070182800293,
          3.6452369689941406,
          -0.8787915706634521,
          -1.5497331619262695,
          0.23540127277374268,
          1.124953269958496,
          3.8267300128936768,
          -1.2599927186965942,
          -1.3509677648544312,
          -0.801835834980011,
          0.4392416477203369,
          2.212617874145508,
          -0.2703198194503784,
          -4.100077152252197,
          0.1587635725736618,
          0.1583562195301056,
          1.6849194765090942,
          -0.9338755011558533,
          3.60288405418396,
          1.6314282417297363,
          -0.2835904359817505,
          -0.47623324394226074,
          -0.5213146209716797,
          1.2723214626312256,
          -3.513066291809082,
          -2.016711950302124,
          4.110973834991455,
          2.3788318634033203,
          0.3217099905014038,
          1.1325052976608276,
          -3.7216389179229736,
          -0.05557592585682869,
          -2.4875845909118652,
          -1.1498336791992188,
          -1.9812713861465454,
          1.3826546669006348,
          -0.9869312047958374,
          -1.399977684020996,
          2.10992693901062,
          -2.8513753414154053,
          3.5172135829925537,
          1.6536861658096313,
          3.357408046722412,
          1.405123233795166,
          1.8093189001083374,
          2.1989693641662598,
          -2.732555389404297,
          0.7720377445220947,
          -1.0184717178344727,
          1.5413836240768433,
          3.3938751220703125,
          0.2757006585597992,
          -1.9188213348388672,
          -1.0804657936096191,
          -1.2379190921783447,
          -0.2722327709197998,
          0.7542741894721985,
          -3.0908617973327637,
          -1.457883358001709,
          5.579705715179443,
          -0.12442915886640549,
          -1.7571295499801636,
          1.7449257373809814,
          3.800544500350952,
          -2.8824760913848877,
          1.1064666509628296,
          0.0988098755478859,
          -0.22388508915901184,
          3.631218910217285,
          -0.826679527759552,
          -4.2819600105285645,
          -2.6472132205963135,
          3.6157100200653076,
          1.1394890546798706,
          1.5640009641647339,
          1.7773101329803467,
          1.2953511476516724,
          1.1818270683288574,
          1.2166895866394043,
          3.2377240657806396,
          -1.5092865228652954,
          1.6745773553848267,
          1.5746301412582397,
          4.018627166748047,
          -2.136514663696289,
          0.34920719265937805,
          -0.7790082097053528,
          -0.38397642970085144,
          2.67870831489563,
          -0.0019076982280239463,
          -0.10386233031749725,
          0.4237775206565857,
          -0.6995165944099426,
          -3.1991984844207764,
          2.1556570529937744,
          3.9179084300994873,
          0.881773054599762,
          2.4710543155670166,
          -1.928407073020935,
          1.1722357273101807,
          3.2679286003112793,
          1.3574415445327759,
          1.2313122749328613,
          1.5675221681594849,
          -1.9067655801773071,
          1.625554084777832,
          -0.2691342234611511,
          -1.1502445936203003,
          -0.23556333780288696,
          1.684239387512207,
          0.07442041486501694,
          3.4493329524993896,
          2.6741747856140137,
          -1.9659979343414307,
          0.8207811117172241,
          0.16053597629070282,
          2.519944429397583,
          -2.149860382080078,
          -0.9488866925239563,
          2.869868516921997,
          -0.7804080247879028,
          1.0518248081207275,
          1.7722448110580444,
          -2.1014227867126465,
          3.1017770767211914,
          1.6651320457458496,
          -4.629948616027832,
          3.6027400493621826,
          0.3148639500141144,
          -1.173362135887146,
          -0.2673625648021698,
          0.7830536961555481,
          -4.82426118850708,
          2.114720582962036,
          -1.496689796447754,
          2.8272364139556885,
          1.4793717861175537,
          -3.1346423625946045,
          -3.2169253826141357,
          0.2112695574760437,
          0.7146929502487183,
          -0.9931285381317139,
          1.6705576181411743,
          -3.299708604812622,
          -4.116867542266846,
          -2.7384703159332275,
          -2.9890148639678955,
          0.9906024932861328,
          -1.6566091775894165,
          1.2780855894088745,
          -2.6415748596191406,
          0.7481567859649658,
          1.546004295349121,
          0.2614682912826538,
          -3.212984085083008,
          3.2245047092437744,
          -1.2821558713912964,
          3.0141775608062744,
          2.7918362617492676,
          -0.844912588596344,
          -1.5589215755462646,
          0.7856260538101196,
          0.7911195755004883,
          3.970367908477783,
          -0.12195015698671341,
          -1.761252522468567,
          -1.0665854215621948,
          1.8388471603393555,
          -0.9935117363929749,
          -1.9955072402954102,
          -4.275402069091797,
          -2.085508108139038,
          -5.037913799285889,
          2.3759288787841797,
          0.45553579926490784,
          2.319437026977539,
          -1.1297988891601562,
          0.3605698347091675,
          2.875016927719116,
          0.14900539815425873,
          -1.1269738674163818,
          -2.681567668914795,
          2.2014451026916504,
          2.0388548374176025,
          1.0946755409240723,
          0.22825078666210175,
          0.09200718253850937,
          -1.244888424873352,
          -1.660553216934204,
          -0.08175704628229141,
          -0.02074235863983631,
          -2.665188789367676,
          -1.7803409099578857,
          0.7632428407669067,
          2.7463903427124023,
          2.7305409908294678,
          -1.3050365447998047,
          2.0481631755828857,
          -1.4045789241790771,
          -3.4410386085510254,
          -1.3771131038665771,
          -3.411940336227417,
          2.019270181655884,
          -2.6160783767700195,
          0.4054329991340637,
          5.602721214294434,
          0.9492492079734802,
          -1.844321608543396,
          1.683905839920044,
          1.1268802881240845,
          0.5688230991363525,
          -0.38262060284614563,
          1.1894890069961548,
          3.4433083534240723,
          1.9645628929138184,
          -0.37387290596961975,
          2.917917251586914,
          5.45639181137085,
          -1.2351351976394653,
          1.4437154531478882,
          0.044110603630542755,
          0.17019042372703552,
          0.3682839870452881,
          0.3193196654319763,
          1.469368577003479,
          2.5357213020324707,
          0.06911925971508026,
          -0.37720251083374023,
          -1.2650498151779175,
          -1.6007726192474365,
          -1.4292349815368652,
          2.880850315093994,
          3.634042978286743,
          -0.7780541777610779,
          -1.8744035959243774,
          -0.05701461061835289,
          -0.11080791801214218,
          0.6679122447967529,
          -0.978283703327179,
          2.6097238063812256,
          -3.947974443435669,
          -1.207231879234314,
          1.2276155948638916,
          -2.8696112632751465,
          -5.044936656951904,
          -1.2294892072677612,
          -2.6756467819213867,
          1.273663878440857,
          -1.3801857233047485,
          -1.0971119403839111,
          -1.9399330615997314,
          0.2842843234539032,
          -0.021717969328165054,
          1.548740267753601,
          1.6247243881225586,
          -0.933055579662323,
          -0.5585803985595703,
          2.1933083534240723,
          0.8431085348129272,
          -1.987815499305725,
          1.150258183479309,
          -0.6475427150726318,
          -0.5993930697441101,
          -0.676108717918396,
          -0.7916873693466187,
          1.108926773071289,
          -1.5279935598373413,
          -4.768056392669678,
          -2.902555227279663,
          2.636045217514038,
          -0.44984331727027893,
          -0.6020281314849854,
          -4.8332343101501465,
          -0.9311071038246155,
          -0.21343545615673065,
          -1.6421382427215576,
          -2.4439280033111572,
          -2.349562406539917,
          2.800185203552246,
          -0.2806996703147888,
          1.1778111457824707,
          -1.831677794456482,
          -1.1523836851119995,
          -2.2631232738494873,
          3.0934746265411377,
          -1.192205786705017,
          -2.489928960800171,
          2.4007904529571533,
          2.148099899291992,
          -2.5532467365264893,
          2.141658067703247,
          -2.377686023712158
         ]
        }
       ],
       "layout": {
        "legend": {
         "tracegroupgap": 0
        },
        "scene": {
         "domain": {
          "x": [
           0,
           1
          ],
          "y": [
           0,
           1
          ]
         },
         "xaxis": {
          "title": {
           "text": "Dimension 1"
          }
         },
         "yaxis": {
          "title": {
           "text": "Dimension 2"
          }
         },
         "zaxis": {
          "title": {
           "text": "Dimension 3"
          }
         }
        },
        "template": {
         "data": {
          "bar": [
           {
            "error_x": {
             "color": "#2a3f5f"
            },
            "error_y": {
             "color": "#2a3f5f"
            },
            "marker": {
             "line": {
              "color": "#E5ECF6",
              "width": 0.5
             },
             "pattern": {
              "fillmode": "overlay",
              "size": 10,
              "solidity": 0.2
             }
            },
            "type": "bar"
           }
          ],
          "barpolar": [
           {
            "marker": {
             "line": {
              "color": "#E5ECF6",
              "width": 0.5
             },
             "pattern": {
              "fillmode": "overlay",
              "size": 10,
              "solidity": 0.2
             }
            },
            "type": "barpolar"
           }
          ],
          "carpet": [
           {
            "aaxis": {
             "endlinecolor": "#2a3f5f",
             "gridcolor": "white",
             "linecolor": "white",
             "minorgridcolor": "white",
             "startlinecolor": "#2a3f5f"
            },
            "baxis": {
             "endlinecolor": "#2a3f5f",
             "gridcolor": "white",
             "linecolor": "white",
             "minorgridcolor": "white",
             "startlinecolor": "#2a3f5f"
            },
            "type": "carpet"
           }
          ],
          "choropleth": [
           {
            "colorbar": {
             "outlinewidth": 0,
             "ticks": ""
            },
            "type": "choropleth"
           }
          ],
          "contour": [
           {
            "colorbar": {
             "outlinewidth": 0,
             "ticks": ""
            },
            "colorscale": [
             [
              0,
              "#0d0887"
             ],
             [
              0.1111111111111111,
              "#46039f"
             ],
             [
              0.2222222222222222,
              "#7201a8"
             ],
             [
              0.3333333333333333,
              "#9c179e"
             ],
             [
              0.4444444444444444,
              "#bd3786"
             ],
             [
              0.5555555555555556,
              "#d8576b"
             ],
             [
              0.6666666666666666,
              "#ed7953"
             ],
             [
              0.7777777777777778,
              "#fb9f3a"
             ],
             [
              0.8888888888888888,
              "#fdca26"
             ],
             [
              1,
              "#f0f921"
             ]
            ],
            "type": "contour"
           }
          ],
          "contourcarpet": [
           {
            "colorbar": {
             "outlinewidth": 0,
             "ticks": ""
            },
            "type": "contourcarpet"
           }
          ],
          "heatmap": [
           {
            "colorbar": {
             "outlinewidth": 0,
             "ticks": ""
            },
            "colorscale": [
             [
              0,
              "#0d0887"
             ],
             [
              0.1111111111111111,
              "#46039f"
             ],
             [
              0.2222222222222222,
              "#7201a8"
             ],
             [
              0.3333333333333333,
              "#9c179e"
             ],
             [
              0.4444444444444444,
              "#bd3786"
             ],
             [
              0.5555555555555556,
              "#d8576b"
             ],
             [
              0.6666666666666666,
              "#ed7953"
             ],
             [
              0.7777777777777778,
              "#fb9f3a"
             ],
             [
              0.8888888888888888,
              "#fdca26"
             ],
             [
              1,
              "#f0f921"
             ]
            ],
            "type": "heatmap"
           }
          ],
          "heatmapgl": [
           {
            "colorbar": {
             "outlinewidth": 0,
             "ticks": ""
            },
            "colorscale": [
             [
              0,
              "#0d0887"
             ],
             [
              0.1111111111111111,
              "#46039f"
             ],
             [
              0.2222222222222222,
              "#7201a8"
             ],
             [
              0.3333333333333333,
              "#9c179e"
             ],
             [
              0.4444444444444444,
              "#bd3786"
             ],
             [
              0.5555555555555556,
              "#d8576b"
             ],
             [
              0.6666666666666666,
              "#ed7953"
             ],
             [
              0.7777777777777778,
              "#fb9f3a"
             ],
             [
              0.8888888888888888,
              "#fdca26"
             ],
             [
              1,
              "#f0f921"
             ]
            ],
            "type": "heatmapgl"
           }
          ],
          "histogram": [
           {
            "marker": {
             "pattern": {
              "fillmode": "overlay",
              "size": 10,
              "solidity": 0.2
             }
            },
            "type": "histogram"
           }
          ],
          "histogram2d": [
           {
            "colorbar": {
             "outlinewidth": 0,
             "ticks": ""
            },
            "colorscale": [
             [
              0,
              "#0d0887"
             ],
             [
              0.1111111111111111,
              "#46039f"
             ],
             [
              0.2222222222222222,
              "#7201a8"
             ],
             [
              0.3333333333333333,
              "#9c179e"
             ],
             [
              0.4444444444444444,
              "#bd3786"
             ],
             [
              0.5555555555555556,
              "#d8576b"
             ],
             [
              0.6666666666666666,
              "#ed7953"
             ],
             [
              0.7777777777777778,
              "#fb9f3a"
             ],
             [
              0.8888888888888888,
              "#fdca26"
             ],
             [
              1,
              "#f0f921"
             ]
            ],
            "type": "histogram2d"
           }
          ],
          "histogram2dcontour": [
           {
            "colorbar": {
             "outlinewidth": 0,
             "ticks": ""
            },
            "colorscale": [
             [
              0,
              "#0d0887"
             ],
             [
              0.1111111111111111,
              "#46039f"
             ],
             [
              0.2222222222222222,
              "#7201a8"
             ],
             [
              0.3333333333333333,
              "#9c179e"
             ],
             [
              0.4444444444444444,
              "#bd3786"
             ],
             [
              0.5555555555555556,
              "#d8576b"
             ],
             [
              0.6666666666666666,
              "#ed7953"
             ],
             [
              0.7777777777777778,
              "#fb9f3a"
             ],
             [
              0.8888888888888888,
              "#fdca26"
             ],
             [
              1,
              "#f0f921"
             ]
            ],
            "type": "histogram2dcontour"
           }
          ],
          "mesh3d": [
           {
            "colorbar": {
             "outlinewidth": 0,
             "ticks": ""
            },
            "type": "mesh3d"
           }
          ],
          "parcoords": [
           {
            "line": {
             "colorbar": {
              "outlinewidth": 0,
              "ticks": ""
             }
            },
            "type": "parcoords"
           }
          ],
          "pie": [
           {
            "automargin": true,
            "type": "pie"
           }
          ],
          "scatter": [
           {
            "fillpattern": {
             "fillmode": "overlay",
             "size": 10,
             "solidity": 0.2
            },
            "type": "scatter"
           }
          ],
          "scatter3d": [
           {
            "line": {
             "colorbar": {
              "outlinewidth": 0,
              "ticks": ""
             }
            },
            "marker": {
             "colorbar": {
              "outlinewidth": 0,
              "ticks": ""
             }
            },
            "type": "scatter3d"
           }
          ],
          "scattercarpet": [
           {
            "marker": {
             "colorbar": {
              "outlinewidth": 0,
              "ticks": ""
             }
            },
            "type": "scattercarpet"
           }
          ],
          "scattergeo": [
           {
            "marker": {
             "colorbar": {
              "outlinewidth": 0,
              "ticks": ""
             }
            },
            "type": "scattergeo"
           }
          ],
          "scattergl": [
           {
            "marker": {
             "colorbar": {
              "outlinewidth": 0,
              "ticks": ""
             }
            },
            "type": "scattergl"
           }
          ],
          "scattermapbox": [
           {
            "marker": {
             "colorbar": {
              "outlinewidth": 0,
              "ticks": ""
             }
            },
            "type": "scattermapbox"
           }
          ],
          "scatterpolar": [
           {
            "marker": {
             "colorbar": {
              "outlinewidth": 0,
              "ticks": ""
             }
            },
            "type": "scatterpolar"
           }
          ],
          "scatterpolargl": [
           {
            "marker": {
             "colorbar": {
              "outlinewidth": 0,
              "ticks": ""
             }
            },
            "type": "scatterpolargl"
           }
          ],
          "scatterternary": [
           {
            "marker": {
             "colorbar": {
              "outlinewidth": 0,
              "ticks": ""
             }
            },
            "type": "scatterternary"
           }
          ],
          "surface": [
           {
            "colorbar": {
             "outlinewidth": 0,
             "ticks": ""
            },
            "colorscale": [
             [
              0,
              "#0d0887"
             ],
             [
              0.1111111111111111,
              "#46039f"
             ],
             [
              0.2222222222222222,
              "#7201a8"
             ],
             [
              0.3333333333333333,
              "#9c179e"
             ],
             [
              0.4444444444444444,
              "#bd3786"
             ],
             [
              0.5555555555555556,
              "#d8576b"
             ],
             [
              0.6666666666666666,
              "#ed7953"
             ],
             [
              0.7777777777777778,
              "#fb9f3a"
             ],
             [
              0.8888888888888888,
              "#fdca26"
             ],
             [
              1,
              "#f0f921"
             ]
            ],
            "type": "surface"
           }
          ],
          "table": [
           {
            "cells": {
             "fill": {
              "color": "#EBF0F8"
             },
             "line": {
              "color": "white"
             }
            },
            "header": {
             "fill": {
              "color": "#C8D4E3"
             },
             "line": {
              "color": "white"
             }
            },
            "type": "table"
           }
          ]
         },
         "layout": {
          "annotationdefaults": {
           "arrowcolor": "#2a3f5f",
           "arrowhead": 0,
           "arrowwidth": 1
          },
          "autotypenumbers": "strict",
          "coloraxis": {
           "colorbar": {
            "outlinewidth": 0,
            "ticks": ""
           }
          },
          "colorscale": {
           "diverging": [
            [
             0,
             "#8e0152"
            ],
            [
             0.1,
             "#c51b7d"
            ],
            [
             0.2,
             "#de77ae"
            ],
            [
             0.3,
             "#f1b6da"
            ],
            [
             0.4,
             "#fde0ef"
            ],
            [
             0.5,
             "#f7f7f7"
            ],
            [
             0.6,
             "#e6f5d0"
            ],
            [
             0.7,
             "#b8e186"
            ],
            [
             0.8,
             "#7fbc41"
            ],
            [
             0.9,
             "#4d9221"
            ],
            [
             1,
             "#276419"
            ]
           ],
           "sequential": [
            [
             0,
             "#0d0887"
            ],
            [
             0.1111111111111111,
             "#46039f"
            ],
            [
             0.2222222222222222,
             "#7201a8"
            ],
            [
             0.3333333333333333,
             "#9c179e"
            ],
            [
             0.4444444444444444,
             "#bd3786"
            ],
            [
             0.5555555555555556,
             "#d8576b"
            ],
            [
             0.6666666666666666,
             "#ed7953"
            ],
            [
             0.7777777777777778,
             "#fb9f3a"
            ],
            [
             0.8888888888888888,
             "#fdca26"
            ],
            [
             1,
             "#f0f921"
            ]
           ],
           "sequentialminus": [
            [
             0,
             "#0d0887"
            ],
            [
             0.1111111111111111,
             "#46039f"
            ],
            [
             0.2222222222222222,
             "#7201a8"
            ],
            [
             0.3333333333333333,
             "#9c179e"
            ],
            [
             0.4444444444444444,
             "#bd3786"
            ],
            [
             0.5555555555555556,
             "#d8576b"
            ],
            [
             0.6666666666666666,
             "#ed7953"
            ],
            [
             0.7777777777777778,
             "#fb9f3a"
            ],
            [
             0.8888888888888888,
             "#fdca26"
            ],
            [
             1,
             "#f0f921"
            ]
           ]
          },
          "colorway": [
           "#636efa",
           "#EF553B",
           "#00cc96",
           "#ab63fa",
           "#FFA15A",
           "#19d3f3",
           "#FF6692",
           "#B6E880",
           "#FF97FF",
           "#FECB52"
          ],
          "font": {
           "color": "#2a3f5f"
          },
          "geo": {
           "bgcolor": "white",
           "lakecolor": "white",
           "landcolor": "#E5ECF6",
           "showlakes": true,
           "showland": true,
           "subunitcolor": "white"
          },
          "hoverlabel": {
           "align": "left"
          },
          "hovermode": "closest",
          "mapbox": {
           "style": "light"
          },
          "paper_bgcolor": "white",
          "plot_bgcolor": "#E5ECF6",
          "polar": {
           "angularaxis": {
            "gridcolor": "white",
            "linecolor": "white",
            "ticks": ""
           },
           "bgcolor": "#E5ECF6",
           "radialaxis": {
            "gridcolor": "white",
            "linecolor": "white",
            "ticks": ""
           }
          },
          "scene": {
           "xaxis": {
            "backgroundcolor": "#E5ECF6",
            "gridcolor": "white",
            "gridwidth": 2,
            "linecolor": "white",
            "showbackground": true,
            "ticks": "",
            "zerolinecolor": "white"
           },
           "yaxis": {
            "backgroundcolor": "#E5ECF6",
            "gridcolor": "white",
            "gridwidth": 2,
            "linecolor": "white",
            "showbackground": true,
            "ticks": "",
            "zerolinecolor": "white"
           },
           "zaxis": {
            "backgroundcolor": "#E5ECF6",
            "gridcolor": "white",
            "gridwidth": 2,
            "linecolor": "white",
            "showbackground": true,
            "ticks": "",
            "zerolinecolor": "white"
           }
          },
          "shapedefaults": {
           "line": {
            "color": "#2a3f5f"
           }
          },
          "ternary": {
           "aaxis": {
            "gridcolor": "white",
            "linecolor": "white",
            "ticks": ""
           },
           "baxis": {
            "gridcolor": "white",
            "linecolor": "white",
            "ticks": ""
           },
           "bgcolor": "#E5ECF6",
           "caxis": {
            "gridcolor": "white",
            "linecolor": "white",
            "ticks": ""
           }
          },
          "title": {
           "x": 0.05
          },
          "xaxis": {
           "automargin": true,
           "gridcolor": "white",
           "linecolor": "white",
           "ticks": "",
           "title": {
            "standoff": 15
           },
           "zerolinecolor": "white",
           "zerolinewidth": 2
          },
          "yaxis": {
           "automargin": true,
           "gridcolor": "white",
           "linecolor": "white",
           "ticks": "",
           "title": {
            "standoff": 15
           },
           "zerolinecolor": "white",
           "zerolinewidth": 2
          }
         }
        },
        "title": {
         "text": "3D t-SNE Visualization"
        }
       }
      }
     },
     "metadata": {},
     "output_type": "display_data"
    }
   ],
   "source": [
    "model = TSNE(n_components=3, random_state=0)\n",
    "tsne_data = model.fit_transform(b[floats])\n",
    "\n",
    "# Convert the resulting t-SNE output into a DataFrame for easier plotting\n",
    "tsne_df = pd.DataFrame(tsne_data, columns=['Dimension 1', 'Dimension 2', 'Dimension 3'])\n",
    "\n",
    "# Create an interactive 3D scatter plot\n",
    "fig = px.scatter_3d(tsne_df, x='Dimension 1', y='Dimension 2', z='Dimension 3',\n",
    "                    title='3D t-SNE Visualization',\n",
    "                    labels={'Dimension 1': 'Dimension 1', 'Dimension 2': 'Dimension 2', 'Dimension 3': 'Dimension 3'})\n",
    "\n",
    "fig.show()"
   ]
  },
  {
   "cell_type": "markdown",
   "metadata": {},
   "source": [
    "Finally I have plotted the distributions of each numeric column I use."
   ]
  },
  {
   "cell_type": "code",
   "execution_count": 23,
   "metadata": {},
   "outputs": [
    {
     "name": "stderr",
     "output_type": "stream",
     "text": [
      "c:\\Users\\jsull\\anaconda3\\Lib\\site-packages\\seaborn\\_oldcore.py:1119: FutureWarning:\n",
      "\n",
      "use_inf_as_na option is deprecated and will be removed in a future version. Convert inf values to NaN before operating instead.\n",
      "\n",
      "c:\\Users\\jsull\\anaconda3\\Lib\\site-packages\\seaborn\\_oldcore.py:1119: FutureWarning:\n",
      "\n",
      "use_inf_as_na option is deprecated and will be removed in a future version. Convert inf values to NaN before operating instead.\n",
      "\n",
      "c:\\Users\\jsull\\anaconda3\\Lib\\site-packages\\seaborn\\_oldcore.py:1119: FutureWarning:\n",
      "\n",
      "use_inf_as_na option is deprecated and will be removed in a future version. Convert inf values to NaN before operating instead.\n",
      "\n",
      "c:\\Users\\jsull\\anaconda3\\Lib\\site-packages\\seaborn\\_oldcore.py:1119: FutureWarning:\n",
      "\n",
      "use_inf_as_na option is deprecated and will be removed in a future version. Convert inf values to NaN before operating instead.\n",
      "\n",
      "c:\\Users\\jsull\\anaconda3\\Lib\\site-packages\\seaborn\\_oldcore.py:1119: FutureWarning:\n",
      "\n",
      "use_inf_as_na option is deprecated and will be removed in a future version. Convert inf values to NaN before operating instead.\n",
      "\n",
      "c:\\Users\\jsull\\anaconda3\\Lib\\site-packages\\seaborn\\_oldcore.py:1119: FutureWarning:\n",
      "\n",
      "use_inf_as_na option is deprecated and will be removed in a future version. Convert inf values to NaN before operating instead.\n",
      "\n",
      "c:\\Users\\jsull\\anaconda3\\Lib\\site-packages\\seaborn\\_oldcore.py:1119: FutureWarning:\n",
      "\n",
      "use_inf_as_na option is deprecated and will be removed in a future version. Convert inf values to NaN before operating instead.\n",
      "\n",
      "c:\\Users\\jsull\\anaconda3\\Lib\\site-packages\\seaborn\\_oldcore.py:1119: FutureWarning:\n",
      "\n",
      "use_inf_as_na option is deprecated and will be removed in a future version. Convert inf values to NaN before operating instead.\n",
      "\n",
      "c:\\Users\\jsull\\anaconda3\\Lib\\site-packages\\seaborn\\_oldcore.py:1119: FutureWarning:\n",
      "\n",
      "use_inf_as_na option is deprecated and will be removed in a future version. Convert inf values to NaN before operating instead.\n",
      "\n",
      "c:\\Users\\jsull\\anaconda3\\Lib\\site-packages\\seaborn\\_oldcore.py:1119: FutureWarning:\n",
      "\n",
      "use_inf_as_na option is deprecated and will be removed in a future version. Convert inf values to NaN before operating instead.\n",
      "\n"
     ]
    },
    {
     "data": {
      "image/png": "[encoded data removed]",
      "text/plain": [
       "<Figure size 1500x500 with 10 Axes>"
      ]
     },
     "metadata": {},
     "output_type": "display_data"
    }
   ],
   "source": [
    "fig, axes = plt.subplots(2, 5, figsize=(15, 5)) \n",
    "\n",
    "for i, col in enumerate(floats[1:]):\n",
    "    ax = axes[i // 5, i % 5]  \n",
    "    sns.histplot(df[col], ax=ax)\n",
    "    ax.set_title(col)  \n",
    "\n",
    "plt.tight_layout()  \n",
    "plt.show()"
   ]
  }
 ],
 "metadata": {
  "kernelspec": {
   "display_name": "base",
   "language": "python",
   "name": "python3"
  },
  "language_info": {
   "codemirror_mode": {
    "name": "ipython",
    "version": 3
   },
   "file_extension": ".py",
   "mimetype": "text/x-python",
   "name": "python",
   "nbconvert_exporter": "python",
   "pygments_lexer": "ipython3",
   "version": "3.11.7"
  }
 },
 "nbformat": 4,
 "nbformat_minor": 2
}
