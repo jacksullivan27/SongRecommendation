{
 "cells": [
  {
   "cell_type": "markdown",
   "metadata": {},
   "source": [
    "## Data Processing Work and Visualizations\n",
    "\n",
    "In this notebook I process the original dataset and create visualizations to help understand the data we are working with"
   ]
  },
  {
   "cell_type": "code",
   "execution_count": 13,
   "metadata": {},
   "outputs": [],
   "source": [
    "import pandas as pd\n",
    "import numpy as np\n",
    "from sklearn.preprocessing import MinMaxScaler\n",
    "import matplotlib.pyplot as plt\n",
    "from sklearn.manifold import TSNE\n",
    "import seaborn as sns\n",
    "import plotly.express as px"
   ]
  },
  {
   "cell_type": "markdown",
   "metadata": {},
   "source": [
    "Below I created a dictionary to map genres to more broad categories to minimize the number of one hot encoded columns."
   ]
  },
  {
   "cell_type": "code",
   "execution_count": 1,
   "metadata": {},
   "outputs": [],
   "source": [
    "genre_mapping = {\n",
    "    'acoustic': 'Acoustic',\n",
    "    'afrobeat': 'World',\n",
    "    'alt-rock': 'Rock',\n",
    "    'ambient': 'Electronic and Dance',\n",
    "    'black-metal': 'Rock',\n",
    "    'blues': 'Jazz and Blues',\n",
    "    'breakbeat': 'Electronic and Dance',\n",
    "    'cantopop': 'World',\n",
    "    'chicago-house': 'Electronic and Dance',\n",
    "    'chill': 'Electronic and Dance',\n",
    "    'classical': 'Classical and Opera',\n",
    "    'club': 'Electronic and Dance',\n",
    "    'comedy': 'Miscellaneous',\n",
    "    'country': 'Country and Folk',\n",
    "    'dance': 'Electronic and Dance',\n",
    "    'dancehall': 'Reggae and Tropical',\n",
    "    'death-metal': 'Rock',\n",
    "    'deep-house': 'Electronic and Dance',\n",
    "    'detroit-techno': 'Electronic and Dance',\n",
    "    'disco': 'Electronic and Dance',\n",
    "    'drum-and-bass': 'Electronic and Dance',\n",
    "    'dub': 'Electronic and Dance',\n",
    "    'dubstep': 'Electronic and Dance',\n",
    "    'edm': 'Electronic and Dance',\n",
    "    'electro': 'Electronic and Dance',\n",
    "    'electronic': 'Electronic and Dance',\n",
    "    'emo': 'Miscellaneous',\n",
    "    'folk': 'Country and Folk',\n",
    "    'forro': 'Latin',\n",
    "    'french': 'World',\n",
    "    'funk': 'Electronic and Dance',\n",
    "    'garage': 'Electronic and Dance',\n",
    "    'german': 'World',\n",
    "    'gospel': 'Spiritual and Religious',\n",
    "    'goth': 'Miscellaneous',\n",
    "    'grindcore': 'Rock',\n",
    "    'groove': 'Hip-Hop and Urban',\n",
    "    'guitar': 'Instrumental',\n",
    "    'hard-rock': 'Rock',\n",
    "    'hardcore': 'Rock',\n",
    "    'hardstyle': 'Electronic and Dance',\n",
    "    'heavy-metal': 'Rock',\n",
    "    'hip-hop': 'Hip-Hop and Urban',\n",
    "    'house': 'Electronic and Dance',\n",
    "    'indian': 'World',\n",
    "    'indie-pop': 'Pop',\n",
    "    'industrial': 'Electronic and Dance',\n",
    "    'jazz': 'Jazz and Blues',\n",
    "    'k-pop': 'World',\n",
    "    'metal': 'Rock',\n",
    "    'metalcore': 'Rock',\n",
    "    'minimal-techno': 'Electronic and Dance',\n",
    "    'new-age': 'Instrumental',\n",
    "    'opera': 'Classical and Opera',\n",
    "    'party': 'Electronic and Dance',\n",
    "    'piano': 'Instrumental',\n",
    "    'pop': 'Pop',\n",
    "    'pop-film': 'Pop',\n",
    "    'power-pop': 'Pop',\n",
    "    'progressive-house': 'Electronic and Dance',\n",
    "    'psych-rock': 'Rock',\n",
    "    'punk': 'Rock',\n",
    "    'punk-rock': 'Rock',\n",
    "    'rock': 'Rock',\n",
    "    'rock-n-roll': 'Rock',\n",
    "    'romance': 'Miscellaneous',\n",
    "    'sad': 'Miscellaneous',\n",
    "    'salsa': 'Latin',\n",
    "    'samba': 'Latin',\n",
    "    'sertanejo': 'Latin',\n",
    "    'show-tunes': 'Theater',\n",
    "    'singer-songwriter': 'Country and Folk',\n",
    "    'ska': 'Reggae and Tropical',\n",
    "    'songwriter': 'Country and Folk',\n",
    "    'soul': 'Jazz and Blues',\n",
    "    'spanish': 'World',\n",
    "    'swedish': 'World',\n",
    "    'tango': 'Latin',\n",
    "    'techno': 'Electronic and Dance',\n",
    "    'trance': 'Electronic and Dance',\n",
    "    'trip-hop': 'Electronic and Dance'\n",
    "}\n"
   ]
  },
  {
   "cell_type": "code",
   "execution_count": 14,
   "metadata": {},
   "outputs": [
    {
     "data": {
      "text/html": [
       "<div>\n",
       "<style scoped>\n",
       "    .dataframe tbody tr th:only-of-type {\n",
       "        vertical-align: middle;\n",
       "    }\n",
       "\n",
       "    .dataframe tbody tr th {\n",
       "        vertical-align: top;\n",
       "    }\n",
       "\n",
       "    .dataframe thead th {\n",
       "        text-align: right;\n",
       "    }\n",
       "</style>\n",
       "<table border=\"1\" class=\"dataframe\">\n",
       "  <thead>\n",
       "    <tr style=\"text-align: right;\">\n",
       "      <th></th>\n",
       "      <th>master_idx</th>\n",
       "      <th>artist_name</th>\n",
       "      <th>track_name</th>\n",
       "      <th>track_id</th>\n",
       "      <th>year</th>\n",
       "      <th>genre</th>\n",
       "      <th>popularity</th>\n",
       "      <th>danceability</th>\n",
       "      <th>energy</th>\n",
       "      <th>key</th>\n",
       "      <th>...</th>\n",
       "      <th>Instrumental</th>\n",
       "      <th>Jazz and Blues</th>\n",
       "      <th>Latin</th>\n",
       "      <th>Miscellaneous</th>\n",
       "      <th>Pop</th>\n",
       "      <th>Reggae and Tropical</th>\n",
       "      <th>Rock</th>\n",
       "      <th>Spiritual and Religious</th>\n",
       "      <th>Theater</th>\n",
       "      <th>World</th>\n",
       "    </tr>\n",
       "  </thead>\n",
       "  <tbody>\n",
       "    <tr>\n",
       "      <th>0</th>\n",
       "      <td>0</td>\n",
       "      <td>Jason Mraz</td>\n",
       "      <td>I Won't Give Up</td>\n",
       "      <td>53QF56cjZA9RTuuMZDrSA6</td>\n",
       "      <td>2012</td>\n",
       "      <td>Acoustic</td>\n",
       "      <td>0.68</td>\n",
       "      <td>0.483</td>\n",
       "      <td>0.303</td>\n",
       "      <td>4</td>\n",
       "      <td>...</td>\n",
       "      <td>0</td>\n",
       "      <td>0</td>\n",
       "      <td>0</td>\n",
       "      <td>0</td>\n",
       "      <td>0</td>\n",
       "      <td>0</td>\n",
       "      <td>0</td>\n",
       "      <td>0</td>\n",
       "      <td>0</td>\n",
       "      <td>0</td>\n",
       "    </tr>\n",
       "    <tr>\n",
       "      <th>1</th>\n",
       "      <td>1</td>\n",
       "      <td>Jason Mraz</td>\n",
       "      <td>93 Million Miles</td>\n",
       "      <td>1s8tP3jP4GZcyHDsjvw218</td>\n",
       "      <td>2012</td>\n",
       "      <td>Acoustic</td>\n",
       "      <td>0.50</td>\n",
       "      <td>0.572</td>\n",
       "      <td>0.454</td>\n",
       "      <td>3</td>\n",
       "      <td>...</td>\n",
       "      <td>0</td>\n",
       "      <td>0</td>\n",
       "      <td>0</td>\n",
       "      <td>0</td>\n",
       "      <td>0</td>\n",
       "      <td>0</td>\n",
       "      <td>0</td>\n",
       "      <td>0</td>\n",
       "      <td>0</td>\n",
       "      <td>0</td>\n",
       "    </tr>\n",
       "    <tr>\n",
       "      <th>2</th>\n",
       "      <td>2</td>\n",
       "      <td>Joshua Hyslop</td>\n",
       "      <td>Do Not Let Me Go</td>\n",
       "      <td>7BRCa8MPiyuvr2VU3O9W0F</td>\n",
       "      <td>2012</td>\n",
       "      <td>Acoustic</td>\n",
       "      <td>0.57</td>\n",
       "      <td>0.409</td>\n",
       "      <td>0.234</td>\n",
       "      <td>3</td>\n",
       "      <td>...</td>\n",
       "      <td>0</td>\n",
       "      <td>0</td>\n",
       "      <td>0</td>\n",
       "      <td>0</td>\n",
       "      <td>0</td>\n",
       "      <td>0</td>\n",
       "      <td>0</td>\n",
       "      <td>0</td>\n",
       "      <td>0</td>\n",
       "      <td>0</td>\n",
       "    </tr>\n",
       "    <tr>\n",
       "      <th>3</th>\n",
       "      <td>3</td>\n",
       "      <td>Boyce Avenue</td>\n",
       "      <td>Fast Car</td>\n",
       "      <td>63wsZUhUZLlh1OsyrZq7sz</td>\n",
       "      <td>2012</td>\n",
       "      <td>Acoustic</td>\n",
       "      <td>0.58</td>\n",
       "      <td>0.392</td>\n",
       "      <td>0.251</td>\n",
       "      <td>10</td>\n",
       "      <td>...</td>\n",
       "      <td>0</td>\n",
       "      <td>0</td>\n",
       "      <td>0</td>\n",
       "      <td>0</td>\n",
       "      <td>0</td>\n",
       "      <td>0</td>\n",
       "      <td>0</td>\n",
       "      <td>0</td>\n",
       "      <td>0</td>\n",
       "      <td>0</td>\n",
       "    </tr>\n",
       "    <tr>\n",
       "      <th>4</th>\n",
       "      <td>4</td>\n",
       "      <td>Andrew Belle</td>\n",
       "      <td>Sky's Still Blue</td>\n",
       "      <td>6nXIYClvJAfi6ujLiKqEq8</td>\n",
       "      <td>2012</td>\n",
       "      <td>Acoustic</td>\n",
       "      <td>0.54</td>\n",
       "      <td>0.430</td>\n",
       "      <td>0.791</td>\n",
       "      <td>6</td>\n",
       "      <td>...</td>\n",
       "      <td>0</td>\n",
       "      <td>0</td>\n",
       "      <td>0</td>\n",
       "      <td>0</td>\n",
       "      <td>0</td>\n",
       "      <td>0</td>\n",
       "      <td>0</td>\n",
       "      <td>0</td>\n",
       "      <td>0</td>\n",
       "      <td>0</td>\n",
       "    </tr>\n",
       "  </tbody>\n",
       "</table>\n",
       "<p>5 rows × 35 columns</p>\n",
       "</div>"
      ],
      "text/plain": [
       "   master_idx    artist_name        track_name                track_id  year  \\\n",
       "0           0     Jason Mraz   I Won't Give Up  53QF56cjZA9RTuuMZDrSA6  2012   \n",
       "1           1     Jason Mraz  93 Million Miles  1s8tP3jP4GZcyHDsjvw218  2012   \n",
       "2           2  Joshua Hyslop  Do Not Let Me Go  7BRCa8MPiyuvr2VU3O9W0F  2012   \n",
       "3           3   Boyce Avenue          Fast Car  63wsZUhUZLlh1OsyrZq7sz  2012   \n",
       "4           4   Andrew Belle  Sky's Still Blue  6nXIYClvJAfi6ujLiKqEq8  2012   \n",
       "\n",
       "      genre  popularity  danceability  energy  key  ...  Instrumental  \\\n",
       "0  Acoustic        0.68         0.483   0.303    4  ...             0   \n",
       "1  Acoustic        0.50         0.572   0.454    3  ...             0   \n",
       "2  Acoustic        0.57         0.409   0.234    3  ...             0   \n",
       "3  Acoustic        0.58         0.392   0.251   10  ...             0   \n",
       "4  Acoustic        0.54         0.430   0.791    6  ...             0   \n",
       "\n",
       "   Jazz and Blues  Latin  Miscellaneous  Pop  Reggae and Tropical  Rock  \\\n",
       "0               0      0              0    0                    0     0   \n",
       "1               0      0              0    0                    0     0   \n",
       "2               0      0              0    0                    0     0   \n",
       "3               0      0              0    0                    0     0   \n",
       "4               0      0              0    0                    0     0   \n",
       "\n",
       "   Spiritual and Religious  Theater  World  \n",
       "0                        0        0      0  \n",
       "1                        0        0      0  \n",
       "2                        0        0      0  \n",
       "3                        0        0      0  \n",
       "4                        0        0      0  \n",
       "\n",
       "[5 rows x 35 columns]"
      ]
     },
     "execution_count": 14,
     "metadata": {},
     "output_type": "execute_result"
    }
   ],
   "source": [
    "df = pd.read_csv(r'C:\\Users\\jsull\\UW Work\\Stat 451\\Project\\betterspotify.csv') # load the data I got from kaggle\n",
    "df = df.drop_duplicates(subset=['track_id']) # remove duplicate records from the data\n",
    "df = df[df['genre'] != 'sleep'] # get rid of ambient sleep music from the data set\n",
    "scaler = MinMaxScaler() # min-max scale the columns that are not yet in this format\n",
    "columns_to_scale = ['loudness', 'tempo', 'duration_ms', 'popularity']\n",
    "df[columns_to_scale] = scaler.fit_transform(df[columns_to_scale])\n",
    "df['genre'] = df['genre'].replace(genre_mapping) # map genres to the generalized dictionary categories above\n",
    "df = df.join(pd.get_dummies(df['genre'], drop_first=False)) # one hot encode the genre column\n",
    "df = df.rename(columns={'Unnamed: 0': 'master_idx'}) # rename the index column\n",
    "df[['Acoustic', 'Classical and Opera', 'Country and Folk',\n",
    "       'Electronic and Dance', 'Hip-Hop and Urban', 'Instrumental',\n",
    "       'Jazz and Blues', 'Latin', 'Miscellaneous', 'Pop',\n",
    "       'Reggae and Tropical', 'Rock', 'Spiritual and Religious', 'Theater',\n",
    "       'World']] = df[['Acoustic', 'Classical and Opera', 'Country and Folk',\n",
    "       'Electronic and Dance', 'Hip-Hop and Urban', 'Instrumental',\n",
    "       'Jazz and Blues', 'Latin', 'Miscellaneous', 'Pop',\n",
    "       'Reggae and Tropical', 'Rock', 'Spiritual and Religious', 'Theater',\n",
    "       'World']].astype(int) # set the type of the one hot encoded columns to integer rather the boolean\n",
    "pop = df.pop('popularity') \n",
    "df.insert(6, \"popularity\", pop) # move the popularity column up for readability\n",
    "df.head()"
   ]
  },
  {
   "cell_type": "code",
   "execution_count": 5,
   "metadata": {},
   "outputs": [],
   "source": [
    "# df.to_csv(r'C:\\Users\\jsull\\UW Work\\Stat 451\\Project\\processed_data.csv')"
   ]
  },
  {
   "cell_type": "markdown",
   "metadata": {},
   "source": [
    "Data exploration"
   ]
  },
  {
   "cell_type": "markdown",
   "metadata": {},
   "source": [
    "# Visualizations"
   ]
  },
  {
   "cell_type": "code",
   "execution_count": 12,
   "metadata": {},
   "outputs": [
    {
     "data": {
      "image/png": "[encoded data removed]",
      "text/plain": [
       "<Figure size 800x800 with 1 Axes>"
      ]
     },
     "metadata": {},
     "output_type": "display_data"
    }
   ],
   "source": [
    "\n",
    "songs_to_highlight = {\n",
    "    \"Ms. Jackson\": \"OutKast\",\n",
    "    \"Cruel Summer\": \"Taylor Swift\",\n",
    "    \"Party in the U.S.A.\": \"Miley Cyrus\",\n",
    "    \"One Dance\": \"Drake\",\n",
    "    \"Chicken Fried\": \"Zac Brown Band\"\n",
    "}\n",
    "\n",
    "highlight_mask = df.apply(lambda x: (x['track_name'], x['artist_name']) in songs_to_highlight.items(), axis=1)\n",
    "highlighted_songs = df[highlight_mask]\n",
    "\n",
    "other_songs = df[~highlight_mask].sample(n=500 - len(highlighted_songs))\n",
    "\n",
    "b = pd.concat([highlighted_songs, other_songs])\n",
    "\n",
    "model = TSNE(n_components=3, random_state=0)\n",
    "tsne_data = model.fit_transform(b[floats])\n",
    "\n",
    "fig = plt.figure(figsize=(8, 8))\n",
    "ax = fig.add_subplot(111, projection='3d')\n",
    "\n",
    "ax.scatter(tsne_data[len(highlighted_songs):, 0], tsne_data[len(highlighted_songs):, 1], tsne_data[len(highlighted_songs):, 2], alpha=0.5)\n",
    "\n",
    "ax.scatter(tsne_data[:len(highlighted_songs), 0], tsne_data[:len(highlighted_songs), 1], tsne_data[:len(highlighted_songs), 2], c='r', label='Highlighted Songs')\n",
    "\n",
    "for i, (song, artist) in enumerate(songs_to_highlight.items()):\n",
    "    ax.text(tsne_data[i, 0], tsne_data[i, 1], tsne_data[i, 2], f'{song} by {artist}', color='red')\n",
    "\n",
    "ax.set_xlabel('Dimension 1')\n",
    "ax.set_ylabel('Dimension 2')\n",
    "ax.set_zlabel('Dimension 3')\n",
    "\n",
    "ax.legend()\n",
    "\n",
    "plt.show()\n"
   ]
  },
  {
   "cell_type": "markdown",
   "metadata": {},
   "source": [
    "Below is an interactive 3D plot of the TSNE dimensionality reduction of the data."
   ]
  },
  {
   "cell_type": "code",
   "execution_count": 19,
   "metadata": {},
   "outputs": [
    {
     "data": {
      "application/vnd.plotly.v1+json": {
       "config": {
        "plotlyServerURL": "https://plot.ly"
       },
       "data": [
        {
         "hovertemplate": "Dimension 1=%{x}<br>Dimension 2=%{y}<br>Dimension 3=%{z}<extra></extra>",
         "legendgroup": "",
         "marker": {
          "color": "#636efa",
          "symbol": "circle"
         },
         "mode": "markers",
         "name": "",
         "scene": "scene",
         "showlegend": false,
         "type": "scatter3d",
         "x": [
          -0.00363929639570415,
          -4.7957024574279785,
          1.729756474494934,
          3.0955512523651123,
          10.736888885498047,
          -6.455541133880615,
          3.5445663928985596,
          -8.215112686157227,
          3.370011568069458,
          2.886526346206665,
          -0.19432006776332855,
          -7.016045570373535,
          1.7889373302459717,
          -9.273070335388184,
          2.4097330570220947,
          2.1830859184265137,
          -5.2665181159973145,
          6.684671878814697,
          -5.182263374328613,
          -6.421820640563965,
          -6.847132205963135,
          -2.8153574466705322,
          6.620666027069092,
          -4.979194164276123,
          -9.261256217956543,
          -4.966422080993652,
          8.660338401794434,
          4.489808082580566,
          -7.511585235595703,
          -0.24114148318767548,
          2.81569242477417,
          2.8579373359680176,
          3.437049627304077,
          0.19474533200263977,
          3.2201781272888184,
          4.4567694664001465,
          5.414645195007324,
          6.30063533782959,
          10.135705947875977,
          -4.887239456176758,
          -8.55697250366211,
          13.004366874694824,
          2.880181312561035,
          6.986133098602295,
          -9.239970207214355,
          -3.636550188064575,
          1.840101718902588,
          10.85137939453125,
          -1.5288876295089722,
          3.9376063346862793,
          1.7341092824935913,
          -7.266486644744873,
          3.8920397758483887,
          11.826205253601074,
          6.87285852432251,
          2.080824136734009,
          -7.459588050842285,
          -2.4050986766815186,
          6.128275394439697,
          0.5711740255355835,
          4.313037872314453,
          3.542409896850586,
          5.0149736404418945,
          7.905481338500977,
          4.388995170593262,
          -6.062424182891846,
          -5.893148422241211,
          6.218741416931152,
          -5.660899639129639,
          3.4198555946350098,
          -6.184553623199463,
          4.258141994476318,
          -1.661726951599121,
          8.860361099243164,
          -1.0994627475738525,
          3.772968292236328,
          -9.392793655395508,
          8.70496940612793,
          3.64827561378479,
          3.8890883922576904,
          3.2024197578430176,
          -0.30732181668281555,
          -5.454478740692139,
          3.0941998958587646,
          -6.221040725708008,
          -6.236473083496094,
          -3.0927579402923584,
          -6.513545989990234,
          -3.500638008117676,
          -0.7384675741195679,
          6.544209957122803,
          11.612883567810059,
          -9.216275215148926,
          -3.0637478828430176,
          9.344598770141602,
          -3.9481494426727295,
          -3.054973840713501,
          -9.45605182647705,
          -6.5231804847717285,
          4.6901960372924805,
          -6.30538272857666,
          0.8379150629043579,
          7.538859844207764,
          1.9942911863327026,
          -7.007370948791504,
          4.146365642547607,
          5.411416530609131,
          7.779333591461182,
          2.387627363204956,
          1.0841518640518188,
          -2.4471983909606934,
          -2.336409091949463,
          -4.712611675262451,
          -5.529874801635742,
          4.621140003204346,
          -8.41576862335205,
          -2.7580313682556152,
          3.4839062690734863,
          -7.12139368057251,
          -4.914559364318848,
          3.1245245933532715,
          -2.196162700653076,
          -2.86161470413208,
          1.3640763759613037,
          0.33939945697784424,
          -2.1613645553588867,
          8.152901649475098,
          -7.970111846923828,
          -0.45036017894744873,
          -9.817363739013672,
          7.873525619506836,
          -7.324633598327637,
          -8.729575157165527,
          -9.406606674194336,
          -7.206945419311523,
          0.9855619668960571,
          -7.863009929656982,
          -8.219160079956055,
          -4.490767478942871,
          0.259478360414505,
          -2.494584321975708,
          7.112430572509766,
          -3.7197368144989014,
          12.221670150756836,
          1.1195058822631836,
          5.1508612632751465,
          5.329514503479004,
          -5.163996696472168,
          -2.1248345375061035,
          -8.95669937133789,
          3.891723155975342,
          -9.604434967041016,
          -8.128230094909668,
          -3.5510528087615967,
          -4.28702449798584,
          0.7707440257072449,
          7.9197611808776855,
          7.124871730804443,
          -6.2661943435668945,
          6.989089012145996,
          -1.4690775871276855,
          4.327423572540283,
          -1.6744917631149292,
          -4.209705829620361,
          7.542158126831055,
          -4.01352596282959,
          0.7641869187355042,
          6.7963409423828125,
          10.408730506896973,
          -9.615846633911133,
          -0.5892374515533447,
          -0.03671277314424515,
          -4.133779048919678,
          2.8958420753479004,
          -6.870995044708252,
          1.972874641418457,
          3.9836034774780273,
          7.065813064575195,
          -6.27634334564209,
          3.4261791706085205,
          10.816582679748535,
          3.6118407249450684,
          4.843108654022217,
          -1.612406611442566,
          11.764139175415039,
          -5.112358570098877,
          7.813910484313965,
          -7.103742599487305,
          4.0153021812438965,
          3.3690545558929443,
          0.5332890748977661,
          -6.635278701782227,
          2.4450371265411377,
          -7.442502975463867,
          3.6441216468811035,
          -7.536790370941162,
          11.0645112991333,
          -4.567399501800537,
          5.650679111480713,
          -2.9371895790100098,
          -0.9446054100990295,
          11.113311767578125,
          1.8190299272537231,
          -2.100980043411255,
          10.400338172912598,
          -6.283578872680664,
          3.2929279804229736,
          -5.012391567230225,
          4.538715362548828,
          -5.278773784637451,
          -3.002683401107788,
          5.444753646850586,
          -7.395909786224365,
          11.687100410461426,
          4.467016220092773,
          0.37113121151924133,
          -9.49215316772461,
          -7.334510803222656,
          4.450514793395996,
          -2.3008458614349365,
          4.111040115356445,
          2.928197145462036,
          -2.8377668857574463,
          3.2364320755004883,
          -4.003455638885498,
          2.5639116764068604,
          -4.748043537139893,
          -10.35877799987793,
          -7.108052730560303,
          -6.396572589874268,
          2.676494836807251,
          1.834424614906311,
          2.2131760120391846,
          -5.917165756225586,
          2.855942726135254,
          0.8390612006187439,
          -2.552783250808716,
          4.812331199645996,
          3.94159197807312,
          10.725497245788574,
          -8.658695220947266,
          -8.027487754821777,
          -4.044105529785156,
          1.850446343421936,
          8.471628189086914,
          1.6172263622283936,
          6.246642112731934,
          0.9878478646278381,
          -9.239471435546875,
          -7.327113628387451,
          -4.464418888092041,
          3.7553353309631348,
          -5.728829860687256,
          10.444456100463867,
          7.520219326019287,
          2.2787318229675293,
          4.046352863311768,
          3.7366244792938232,
          -3.5937654972076416,
          3.2852048873901367,
          -7.061698913574219,
          -8.080146789550781,
          5.3323445320129395,
          -1.7262662649154663,
          6.249389171600342,
          -3.8306884765625,
          -6.208133697509766,
          -2.151463508605957,
          4.760037422180176,
          -6.683644771575928,
          4.888399600982666,
          -4.454253196716309,
          -5.095349311828613,
          -6.873863697052002,
          9.548985481262207,
          -1.0691052675247192,
          -3.60614013671875,
          4.241128921508789,
          6.461788177490234,
          -8.43208122253418,
          -6.833220958709717,
          -5.3491716384887695,
          -4.459513187408447,
          0.2338973432779312,
          7.539694786071777,
          10.057973861694336,
          -0.72724848985672,
          -4.599364757537842,
          6.303854942321777,
          4.3216447830200195,
          -2.44254732131958,
          -8.269157409667969,
          -2.809899091720581,
          4.378976821899414,
          5.944867134094238,
          -5.676991939544678,
          3.540947914123535,
          5.9007158279418945,
          4.611574649810791,
          -3.2486135959625244,
          11.480367660522461,
          1.4290193319320679,
          -4.249624729156494,
          -7.080045700073242,
          -9.440763473510742,
          4.926607131958008,
          4.5495476722717285,
          -1.5724931955337524,
          6.041970252990723,
          5.144671440124512,
          2.2449088096618652,
          4.647164821624756,
          2.598193883895874,
          5.468838214874268,
          5.375240802764893,
          0.5071935653686523,
          -3.409609079360962,
          -3.349993944168091,
          -4.900062084197998,
          -4.9090576171875,
          -1.9189743995666504,
          3.1168177127838135,
          3.1849172115325928,
          -5.5504655838012695,
          7.337235450744629,
          -5.704855442047119,
          -4.551459789276123,
          -0.46744513511657715,
          -0.03880677744746208,
          4.966323375701904,
          7.582207679748535,
          -8.775456428527832,
          11.066934585571289,
          2.9484879970550537,
          -5.807446002960205,
          4.9275031089782715,
          -10.44316291809082,
          -0.5612649917602539,
          -3.346160888671875,
          4.019141674041748,
          -9.567949295043945,
          8.20345687866211,
          -4.09455680847168,
          2.707548141479492,
          3.7334840297698975,
          -0.428112268447876,
          6.7846856117248535,
          10.545048713684082,
          -8.456588745117188,
          4.31117582321167,
          4.844716548919678,
          2.007204055786133,
          -4.2691497802734375,
          -2.611159563064575,
          -8.030997276306152,
          2.583017349243164,
          3.1861729621887207,
          -6.242574691772461,
          -8.983216285705566,
          7.906115531921387,
          -7.202773571014404,
          2.277273654937744,
          4.364578723907471,
          7.67227840423584,
          3.092181444168091,
          -9.806000709533691,
          2.0104775428771973,
          -4.0225749015808105,
          2.592974901199341,
          6.856751441955566,
          3.839540958404541,
          -3.0349318981170654,
          2.4508378505706787,
          3.937673330307007,
          10.868316650390625,
          -6.191524505615234,
          7.803961753845215,
          4.075314521789551,
          2.0156126022338867,
          -9.554883003234863,
          -3.568392753601074,
          -4.654566287994385,
          -9.444439888000488,
          7.45866584777832,
          2.3146111965179443,
          3.692807912826538,
          6.409023761749268,
          2.8507678508758545,
          -7.915399074554443,
          -1.6842068433761597,
          3.6999728679656982,
          4.273309707641602,
          9.15126895904541,
          -1.6310826539993286,
          -10.1569242477417,
          11.217824935913086,
          2.14754319190979,
          3.7652621269226074,
          2.9447641372680664,
          -3.0658280849456787,
          -5.753862380981445,
          -4.0760297775268555,
          -9.835824012756348,
          -7.5782270431518555,
          2.22381329536438,
          -8.857242584228516,
          -4.533743381500244,
          9.837742805480957,
          -8.215651512145996,
          -9.173328399658203,
          -5.936753273010254,
          -0.63065505027771,
          0.46699491143226624,
          -8.833577156066895,
          7.026683807373047,
          -3.2230660915374756,
          -5.543590545654297,
          -0.2677476108074188,
          11.851292610168457,
          -7.341607570648193,
          3.532895803451538,
          -1.7927696704864502,
          8.658231735229492,
          5.864563465118408,
          -4.781642436981201,
          0.6779454350471497,
          -2.4163897037506104,
          9.643962860107422,
          -9.365166664123535,
          -3.6742591857910156,
          3.8997247219085693,
          -7.96892786026001,
          6.905214309692383,
          -6.039862632751465,
          11.305583000183105,
          1.8533415794372559,
          -0.4458751976490021,
          3.0600008964538574,
          7.979238510131836,
          -3.850459098815918,
          -3.5739688873291016,
          -7.492692470550537,
          1.8519803285598755,
          8.96109390258789,
          4.925970554351807,
          -2.9500956535339355,
          5.99044132232666,
          4.1232500076293945,
          11.433917045593262,
          12.60832405090332,
          6.343272686004639,
          -6.521155834197998,
          -7.36594820022583,
          6.88996696472168,
          4.284494876861572,
          -8.71088981628418,
          3.740504264831543,
          2.4418492317199707,
          7.783816814422607,
          -6.631236553192139,
          4.084311008453369,
          -8.843549728393555,
          6.538001537322998,
          1.6788709163665771,
          12.126328468322754,
          4.261035442352295,
          -4.986382007598877,
          1.5192677974700928,
          -3.5074431896209717,
          2.7486355304718018,
          6.007688045501709,
          8.925827980041504,
          3.539740562438965,
          4.430980205535889,
          -9.294198036193848,
          -8.469097137451172,
          -9.421849250793457,
          -9.44138240814209,
          6.340595722198486,
          4.247058868408203,
          -10.189742088317871,
          -9.454780578613281,
          -6.248866081237793,
          -1.5041106939315796,
          7.637317657470703,
          -4.957485198974609,
          3.508239269256592,
          -1.788393259048462,
          -3.7938501834869385,
          3.0731780529022217,
          0.9077454209327698,
          -3.939622402191162,
          -8.342133522033691,
          -0.0009671503794379532,
          9.027040481567383,
          -2.0143284797668457,
          6.154188632965088,
          6.726146221160889,
          -6.530433177947998,
          5.217721462249756
         ],
         "y": [
          -3.1444196701049805,
          2.107801675796509,
          5.187526226043701,
          7.069392204284668,
          -0.7747536897659302,
          -3.0487003326416016,
          4.390373706817627,
          -2.459117889404297,
          2.8774940967559814,
          6.6019368171691895,
          -5.050888538360596,
          1.4641034603118896,
          4.190814018249512,
          -0.5716055035591125,
          9.911676406860352,
          3.892411231994629,
          -1.5582590103149414,
          1.671736240386963,
          2.2785332202911377,
          3.8837454319000244,
          2.756664991378784,
          2.14443302154541,
          9.582589149475098,
          2.543919324874878,
          2.631028890609741,
          -6.943025588989258,
          1.3542677164077759,
          9.411275863647461,
          0.4414495527744293,
          -0.7791509032249451,
          8.846904754638672,
          5.008829116821289,
          9.18025016784668,
          5.18742561340332,
          -8.25832748413086,
          -6.957376480102539,
          -7.503990650177002,
          -4.813009262084961,
          -0.8401320576667786,
          -6.130104064941406,
          -0.3729127049446106,
          -0.6067942380905151,
          9.649629592895508,
          2.647670269012451,
          -3.1983304023742676,
          -4.468514919281006,
          10.979522705078125,
          -0.9081155061721802,
          -4.8312811851501465,
          -8.895926475524902,
          6.969532489776611,
          2.9146618843078613,
          5.043168067932129,
          -0.8657613396644592,
          8.565092086791992,
          -7.007115840911865,
          3.7448129653930664,
          -1.5422204732894897,
          8.365089416503906,
          -5.0206217765808105,
          10.709189414978027,
          9.340435028076172,
          -7.164689064025879,
          0.8249024748802185,
          9.677911758422852,
          4.165700912475586,
          -3.2877578735351562,
          8.191182136535645,
          3.242142677307129,
          -6.827707290649414,
          0.26778098940849304,
          5.227859973907471,
          -6.401629447937012,
          -0.1480862945318222,
          -3.455206871032715,
          6.470283508300781,
          -0.36796584725379944,
          0.46180927753448486,
          8.055488586425781,
          5.0339508056640625,
          -3.6172640323638916,
          -3.6095166206359863,
          2.7470953464508057,
          -7.199938774108887,
          1.1687822341918945,
          -3.025743007659912,
          -0.8681799173355103,
          -1.5843334197998047,
          -4.512376308441162,
          2.961409330368042,
          6.812105655670166,
          1.1573193073272705,
          -1.5891408920288086,
          -0.6908469200134277,
          1.2854950428009033,
          -0.1669660061597824,
          -2.252213954925537,
          3.283522367477417,
          3.9836645126342773,
          -4.668655872344971,
          2.8788273334503174,
          -4.656470775604248,
          -7.008288860321045,
          4.665317535400391,
          -2.9879767894744873,
          6.808356761932373,
          9.007267951965332,
          -7.425450801849365,
          -5.978238105773926,
          -4.243728160858154,
          1.7511221170425415,
          -0.2771157920360565,
          -0.1474042683839798,
          -4.151889801025391,
          6.5386576652526855,
          -2.4544124603271484,
          2.0956077575683594,
          -8.275815963745117,
          3.0071170330047607,
          -2.2078359127044678,
          8.905086517333984,
          -4.551387310028076,
          -2.1601977348327637,
          3.8376011848449707,
          -4.345948219299316,
          -6.660215377807617,
          7.8539934158325195,
          -3.270334243774414,
          0.012388581410050392,
          4.45487642288208,
          8.098567962646484,
          0.04092652350664139,
          -0.3917517364025116,
          -3.2514476776123047,
          1.0986530780792236,
          -5.20871114730835,
          -0.9688746929168701,
          -2.539585590362549,
          2.216388463973999,
          -3.176140546798706,
          2.2315406799316406,
          3.9854729175567627,
          0.27972787618637085,
          -0.4598863124847412,
          -6.237277984619141,
          4.625985622406006,
          7.397498607635498,
          -1.1462202072143555,
          -5.789804935455322,
          2.3197410106658936,
          10.356049537658691,
          4.6726813316345215,
          3.7607877254486084,
          -0.9276458024978638,
          3.2524657249450684,
          -5.513782978057861,
          8.243921279907227,
          -8.649386405944824,
          -4.114053726196289,
          4.3283514976501465,
          -0.3785163164138794,
          7.943983554840088,
          0.057339705526828766,
          0.06292913854122162,
          -7.604189395904541,
          -2.1434881687164307,
          -4.607287883758545,
          -6.595062732696533,
          1.0820964574813843,
          0.9492288827896118,
          5.161269664764404,
          -4.718393325805664,
          -2.7939414978027344,
          7.961191654205322,
          -3.5813848972320557,
          -3.0676791667938232,
          5.515381336212158,
          -8.761971473693848,
          -1.5890536308288574,
          -8.305242538452148,
          1.9617462158203125,
          9.036615371704102,
          6.973562717437744,
          -0.23132134974002838,
          -0.006573287770152092,
          2.356743335723877,
          9.026861190795898,
          -1.0128686428070068,
          9.142494201660156,
          6.211676597595215,
          -4.347888469696045,
          3.2604482173919678,
          -1.5698989629745483,
          -0.7699494361877441,
          -3.676645040512085,
          -0.2952166497707367,
          0.6288365125656128,
          0.2177729457616806,
          -9.784472465515137,
          -0.8560732007026672,
          -3.588625192642212,
          0.6051676869392395,
          -7.111280918121338,
          -0.7304827570915222,
          0.1306803971529007,
          3.939260721206665,
          -5.814745903015137,
          1.0594850778579712,
          7.3027873039245605,
          2.5854034423828125,
          0.48933345079421997,
          8.506298065185547,
          -3.4521689414978027,
          -0.586013674736023,
          8.42784309387207,
          -4.265748977661133,
          0.5976749062538147,
          2.5471630096435547,
          10.884632110595703,
          -6.757842063903809,
          -8.009146690368652,
          7.017770290374756,
          -2.067143678665161,
          -4.476143836975098,
          -2.1434009075164795,
          -5.578589916229248,
          1.5425223112106323,
          -0.8749304413795471,
          2.214970588684082,
          0.09359102696180344,
          -4.463972091674805,
          6.740090847015381,
          -2.6237616539001465,
          -0.8537542819976807,
          6.169187545776367,
          -4.659998893737793,
          -0.6334999799728394,
          7.874043941497803,
          4.357187271118164,
          -0.0872654989361763,
          1.2585800886154175,
          1.4602642059326172,
          2.2587311267852783,
          -7.203378200531006,
          0.9014496803283691,
          -7.776976108551025,
          6.47866678237915,
          -3.2644991874694824,
          -1.2640678882598877,
          1.7870936393737793,
          0.30616411566734314,
          -9.426767349243164,
          -4.00330924987793,
          1.6462182998657227,
          -7.470533847808838,
          -1.9829996824264526,
          5.744884967803955,
          -7.6655964851379395,
          -5.7957072257995605,
          7.893960475921631,
          0.06324838101863861,
          -3.4941341876983643,
          6.002939701080322,
          -6.409274101257324,
          9.456010818481445,
          0.5248351097106934,
          -3.9682955741882324,
          -1.4389886856079102,
          6.462435722351074,
          -3.0840296745300293,
          -6.942443370819092,
          3.651848793029785,
          -4.132876396179199,
          1.395151972770691,
          -0.05774465203285217,
          -0.5527628660202026,
          -6.134059906005859,
          7.61683464050293,
          -4.950764179229736,
          2.946052074432373,
          -1.042718768119812,
          1.0576950311660767,
          1.325786828994751,
          -5.616775989532471,
          -7.534129619598389,
          -0.16350704431533813,
          -1.962165117263794,
          -1.245877981185913,
          8.124773025512695,
          -4.55963659286499,
          1.627144694328308,
          3.805952310562134,
          -1.3547916412353516,
          -8.967392921447754,
          -7.404224395751953,
          -5.988551616668701,
          9.489128112792969,
          6.492652416229248,
          6.791138172149658,
          3.225229501724243,
          -0.4448755979537964,
          -2.7734673023223877,
          3.1760072708129883,
          -3.271479845046997,
          2.323779344558716,
          6.098005771636963,
          -6.594639301300049,
          -0.042222000658512115,
          6.673872470855713,
          4.430980682373047,
          6.216810703277588,
          7.9407267570495605,
          4.291387557983398,
          -6.811350345611572,
          -6.425069808959961,
          -3.0041306018829346,
          2.808195114135742,
          -5.8702392578125,
          -1.8127021789550781,
          -6.298567771911621,
          -4.265268325805664,
          -5.161858558654785,
          7.987982273101807,
          2.6037933826446533,
          -7.997185707092285,
          0.6819631457328796,
          -6.785735607147217,
          -6.683645725250244,
          -5.831164360046387,
          -6.668573379516602,
          1.582316517829895,
          4.329468250274658,
          0.7080934047698975,
          -6.959158420562744,
          -0.9251749515533447,
          7.430517673492432,
          0.7126386165618896,
          -3.2789745330810547,
          -1.0041242837905884,
          6.184086799621582,
          -0.2325267791748047,
          1.2778252363204956,
          -0.22822976112365723,
          -2.570328950881958,
          -7.259217262268066,
          3.1348400115966797,
          -6.92795991897583,
          0.08946637809276581,
          -1.9596973657608032,
          7.457889556884766,
          -7.524696350097656,
          4.362419605255127,
          -1.0890063047409058,
          -5.538445949554443,
          -0.22117681801319122,
          -6.083652019500732,
          9.324954986572266,
          0.6307957172393799,
          2.558314561843872,
          2.127432346343994,
          2.1641898155212402,
          7.628532409667969,
          9.293787002563477,
          1.5765780210494995,
          5.013612270355225,
          -0.3603610098361969,
          -7.761328220367432,
          -2.974372386932373,
          -6.30890417098999,
          -7.596671104431152,
          9.811720848083496,
          -1.1693427562713623,
          10.223386764526367,
          4.726229190826416,
          -0.33268246054649353,
          4.032150745391846,
          -8.140823364257812,
          -5.762677192687988,
          5.7435784339904785,
          1.3223930597305298,
          -1.043064832687378,
          2.5787479877471924,
          1.5301969051361084,
          8.026664733886719,
          9.873141288757324,
          8.622631072998047,
          2.1210451126098633,
          4.760989665985107,
          -3.699295997619629,
          -3.0310072898864746,
          -9.598844528198242,
          -8.2304048538208,
          -1.0478781461715698,
          -3.063626289367676,
          -1.7209452390670776,
          -0.8031951785087585,
          -1.649377465248108,
          -6.258049488067627,
          -8.480703353881836,
          -0.6385142803192139,
          -4.669487953186035,
          -6.711525917053223,
          4.02613639831543,
          -2.382474660873413,
          -1.5075739622116089,
          1.70942223072052,
          0.8909991979598999,
          -0.6718865036964417,
          0.965321958065033,
          4.695123672485352,
          2.531007766723633,
          -2.0476858615875244,
          -6.6006178855896,
          -1.5760756731033325,
          7.441577911376953,
          -2.1328518390655518,
          -0.9866276979446411,
          -3.949910879135132,
          -0.7976847290992737,
          -5.373048305511475,
          -7.3310370445251465,
          -3.432124376296997,
          -0.08360665291547775,
          2.3194055557250977,
          -6.757628440856934,
          -4.554506778717041,
          1.591568112373352,
          1.1766722202301025,
          2.9780797958374023,
          -0.7150236368179321,
          4.486237525939941,
          1.363008975982666,
          2.491013765335083,
          1.2848751544952393,
          -0.9631989002227783,
          7.506989479064941,
          -2.1537179946899414,
          -2.717343330383301,
          7.987715244293213,
          -2.5857038497924805,
          2.925438404083252,
          -5.430878639221191,
          -6.574358940124512,
          -0.46109333634376526,
          6.671021938323975,
          -4.14847469329834,
          0.8161799311637878,
          6.515582084655762,
          -0.09846965968608856,
          0.0801023542881012,
          9.352408409118652,
          0.35735899209976196,
          -0.48522844910621643,
          -7.43993616104126,
          9.637157440185547,
          -0.6587919592857361,
          10.551701545715332,
          5.763611793518066,
          8.13005542755127,
          -4.005748271942139,
          -6.626852035522461,
          -1.7640548944473267,
          -8.575294494628906,
          11.15045166015625,
          0.6526205539703369,
          -7.145477771759033,
          -1.6470977067947388,
          -6.011502742767334,
          2.3312392234802246,
          7.861523151397705,
          0.8730003237724304,
          -1.6924588680267334,
          7.331749439239502,
          8.747483253479004,
          1.3362253904342651,
          -2.690911293029785,
          3.6690280437469482,
          2.7224009037017822,
          -8.894906044006348,
          7.789639472961426,
          -1.6421751976013184,
          2.582671642303467,
          -0.8264258503913879,
          -2.6335580348968506,
          7.810530662536621,
          2.1751041412353516,
          -7.000594615936279,
          -0.41930413246154785,
          -1.008684515953064,
          9.80918025970459,
          -2.9617087841033936,
          -6.009896755218506,
          -1.7864409685134888,
          -2.8563954830169678,
          1.0558463335037231,
          -0.3931792676448822,
          -6.363022327423096,
          -6.907975673675537,
          2.108020067214966,
          -5.4293999671936035
         ],
         "z": [
          -3.7760188579559326,
          -0.37532615661621094,
          2.871246337890625,
          3.157184600830078,
          1.1502478122711182,
          -1.9440996646881104,
          3.5426552295684814,
          -2.8103268146514893,
          1.7506392002105713,
          3.2960715293884277,
          0.26386547088623047,
          0.20745283365249634,
          0.4854523837566376,
          1.283219814300537,
          -0.8449145555496216,
          1.6895383596420288,
          2.45556640625,
          1.8748281002044678,
          2.1119871139526367,
          4.074034214019775,
          2.3774611949920654,
          0.3546738922595978,
          0.31752723455429077,
          -0.46286383271217346,
          2.917541265487671,
          -0.43193337321281433,
          1.0326224565505981,
          2.380309581756592,
          -1.910522222518921,
          -0.42017093300819397,
          1.7191064357757568,
          2.7392210960388184,
          0.8304974436759949,
          2.6554675102233887,
          -0.6265849471092224,
          -1.2355430126190186,
          -1.9064698219299316,
          -2.0784807205200195,
          -0.4567636549472809,
          -1.0059643983840942,
          1.9756436347961426,
          0.5904155969619751,
          -0.3911285102367401,
          1.348409652709961,
          0.010271988809108734,
          0.30991846323013306,
          -1.8461871147155762,
          1.0055036544799805,
          3.032210350036621,
          -0.4906841516494751,
          0.1106344535946846,
          2.451371669769287,
          -3.303184986114502,
          1.1010372638702393,
          1.4005634784698486,
          -0.19999228417873383,
          1.7063920497894287,
          -2.4073638916015625,
          2.0560247898101807,
          -0.6121507883071899,
          -1.451552152633667,
          -1.9098881483078003,
          -0.4082247316837311,
          1.8577146530151367,
          -1.6598933935165405,
          2.6777114868164062,
          -2.314159870147705,
          2.203418731689453,
          -1.2835007905960083,
          0.5811015367507935,
          2.1360154151916504,
          3.183154344558716,
          -2.2672457695007324,
          -1.2002127170562744,
          -0.6181437373161316,
          2.93768572807312,
          1.0593756437301636,
          1.2424808740615845,
          1.6450586318969727,
          -3.3074135780334473,
          -3.827408790588379,
          4.986557960510254,
          -2.061998128890991,
          -1.4265904426574707,
          0.801520586013794,
          -1.830177664756775,
          -2.4228312969207764,
          -3.2694101333618164,
          -0.16468589007854462,
          1.3721383810043335,
          1.6880500316619873,
          1.4733786582946777,
          1.9603004455566406,
          -1.8052687644958496,
          1.4308207035064697,
          -1.4978405237197876,
          0.21334321796894073,
          4.440725326538086,
          -1.5311000347137451,
          -2.958348035812378,
          -0.7704738974571228,
          5.081512451171875,
          -0.9453184008598328,
          0.5428127646446228,
          -3.5152347087860107,
          3.505542039871216,
          0.03459685668349266,
          -0.43803873658180237,
          0.7113685011863708,
          -1.6872485876083374,
          -1.1240742206573486,
          1.638796329498291,
          2.0983505249023438,
          -0.03066217340528965,
          -0.03902873024344444,
          -1.187008261680603,
          0.8287946581840515,
          -2.3676023483276367,
          2.0644307136535645,
          -0.8409636616706848,
          -1.3539586067199707,
          -0.4794265329837799,
          -0.16524598002433777,
          -0.10829727351665497,
          4.924358367919922,
          -1.3743902444839478,
          -1.3417648077011108,
          -3.780244827270508,
          -0.5539138317108154,
          1.790982723236084,
          -0.31256964802742004,
          -2.1178133487701416,
          -1.2639009952545166,
          0.18233908712863922,
          2.6440134048461914,
          0.6807361841201782,
          1.004368543624878,
          -1.8631632328033447,
          2.39046049118042,
          -3.92216157913208,
          -1.146188497543335,
          1.1073678731918335,
          1.4457645416259766,
          1.6859930753707886,
          1.1303985118865967,
          2.213538646697998,
          2.5513863563537598,
          2.165999174118042,
          -3.6596810817718506,
          -0.24737784266471863,
          -0.9740127921104431,
          2.2489635944366455,
          1.550140380859375,
          -1.683519721031189,
          -3.0322816371917725,
          -1.0952595472335815,
          -0.18786579370498657,
          -1.1808078289031982,
          0.7924186587333679,
          1.080785870552063,
          0.23413223028182983,
          4.646733283996582,
          -0.2124260514974594,
          -3.467629909515381,
          -0.7395004034042358,
          3.287588119506836,
          5.059503078460693,
          -0.27434030175209045,
          0.7018632292747498,
          -2.321340560913086,
          2.5139873027801514,
          -0.0584210604429245,
          -3.4996297359466553,
          -0.8346492052078247,
          -1.050201177597046,
          -4.55300760269165,
          1.4450223445892334,
          -1.7218754291534424,
          -3.6442160606384277,
          -1.771214485168457,
          1.643620491027832,
          -1.1463674306869507,
          -1.9931691884994507,
          -0.38099372386932373,
          0.43297046422958374,
          -3.3954641819000244,
          0.49739909172058105,
          -0.20817121863365173,
          -1.7412521839141846,
          2.4466800689697266,
          0.2950820028781891,
          0.837809145450592,
          -3.565445899963379,
          -1.3153702020645142,
          -3.911966323852539,
          2.619417667388916,
          1.2996387481689453,
          1.6884331703186035,
          -1.3682054281234741,
          4.033883571624756,
          0.06418424099683762,
          1.7384891510009766,
          1.3667303323745728,
          4.114252090454102,
          0.9769923090934753,
          3.129879951477051,
          -2.031954050064087,
          0.5382030010223389,
          -0.767116367816925,
          1.7913472652435303,
          2.572500467300415,
          2.508554458618164,
          0.4716428816318512,
          2.059860944747925,
          -1.6450263261795044,
          5.030726909637451,
          0.07845006138086319,
          -0.188737154006958,
          -1.4045599699020386,
          -1.3029412031173706,
          -1.8019154071807861,
          1.2483303546905518,
          -0.8266091346740723,
          -3.031590700149536,
          -3.3764495849609375,
          -0.9590724110603333,
          -2.9781222343444824,
          1.9800193309783936,
          -0.27644866704940796,
          -1.4880796670913696,
          -2.8607475757598877,
          -0.28642478585243225,
          -4.425104141235352,
          -2.0440380573272705,
          1.4483118057250977,
          5.076155185699463,
          3.2141213417053223,
          2.5040104389190674,
          -3.4348182678222656,
          1.7821340560913086,
          -0.6947494745254517,
          3.048407554626465,
          -0.3487195372581482,
          1.4091689586639404,
          1.726469874382019,
          0.05266951024532318,
          3.8886404037475586,
          -2.3455066680908203,
          -0.15061776340007782,
          0.38164636492729187,
          1.543628215789795,
          -0.44236284494400024,
          -0.2893196940422058,
          1.8047722578048706,
          -0.2598308026790619,
          -4.333414077758789,
          1.5743317604064941,
          -1.923107624053955,
          -1.0861648321151733,
          3.160554885864258,
          -2.1445958614349365,
          -4.051315784454346,
          2.792567729949951,
          -2.1669044494628906,
          1.7200508117675781,
          1.271135926246643,
          -0.4068174660205841,
          1.9193274974822998,
          0.5626794695854187,
          -3.701841115951538,
          -1.670636773109436,
          -3.2082109451293945,
          1.7569864988327026,
          2.1866581439971924,
          0.5303493142127991,
          -0.567650318145752,
          -2.6381866931915283,
          4.043589115142822,
          -1.4081165790557861,
          5.444075584411621,
          -1.8477944135665894,
          0.08567195385694504,
          0.38374847173690796,
          -0.8480085134506226,
          -1.7223280668258667,
          0.9296714067459106,
          0.6249147057533264,
          -3.84553599357605,
          0.16251900792121887,
          -3.377622365951538,
          -1.0037957429885864,
          1.9707825183868408,
          2.5163886547088623,
          -1.240204095840454,
          -0.5576664805412292,
          0.14289385080337524,
          0.02029159851372242,
          2.6408941745758057,
          -0.2807987630367279,
          -3.0278592109680176,
          1.473665714263916,
          -2.9464199542999268,
          -1.3415491580963135,
          -3.3862226009368896,
          3.5439205169677734,
          -0.9850369095802307,
          -0.3433389961719513,
          -0.45352256298065186,
          3.2164387702941895,
          1.9472359418869019,
          -0.49082842469215393,
          -1.9371098279953003,
          3.4093968868255615,
          -2.2206783294677734,
          -0.37270769476890564,
          -3.8762311935424805,
          -2.938732147216797,
          -1.2419353723526,
          -0.8311018347740173,
          -1.2125626802444458,
          -0.44381096959114075,
          -3.0208122730255127,
          2.2975618839263916,
          3.4655168056488037,
          -0.9219356775283813,
          2.1797637939453125,
          -0.8730737566947937,
          -2.379270315170288,
          0.4397774040699005,
          -1.2082816362380981,
          1.458946943283081,
          3.488477945327759,
          1.2284603118896484,
          0.134601429104805,
          2.458547830581665,
          1.306910514831543,
          1.1745579242706299,
          0.18501180410385132,
          2.8286964893341064,
          2.7962963581085205,
          1.0147528648376465,
          0.7298749089241028,
          -3.212522268295288,
          -3.9041993618011475,
          -3.256619930267334,
          1.435534954071045,
          -2.4812750816345215,
          -0.10479997098445892,
          2.3221330642700195,
          3.058499813079834,
          -0.8976706862449646,
          1.65463125705719,
          -3.722588300704956,
          -4.001923561096191,
          -1.3833991289138794,
          1.1312243938446045,
          1.3732069730758667,
          0.054179925471544266,
          -0.13252374529838562,
          -0.12679865956306458,
          2.4046151638031006,
          -1.1479570865631104,
          0.49841493368148804,
          1.2664823532104492,
          2.051642894744873,
          1.9792771339416504,
          -1.5120052099227905,
          2.9428586959838867,
          1.0126162767410278,
          -1.187406301498413,
          2.1191539764404297,
          4.42759895324707,
          -0.6544275283813477,
          -3.3334381580352783,
          -1.099690318107605,
          2.63081431388855,
          -0.7111698985099792,
          -2.5972373485565186,
          2.910991668701172,
          -1.654305100440979,
          -1.9226100444793701,
          2.5071637630462646,
          -1.385213851928711,
          0.1165376529097557,
          -1.2875096797943115,
          2.314563751220703,
          1.7155733108520508,
          3.6013193130493164,
          -4.110979080200195,
          -1.6758543252944946,
          -1.9308382272720337,
          -0.934778094291687,
          -0.09778258949518204,
          -2.0138158798217773,
          -0.2933490574359894,
          1.4982610940933228,
          -4.571934223175049,
          -2.6983158588409424,
          -0.7947623133659363,
          -2.339250087738037,
          1.1932412385940552,
          -0.883916437625885,
          1.0215853452682495,
          1.8461236953735352,
          -4.744073867797852,
          -0.8100645542144775,
          -3.5207276344299316,
          1.3791366815567017,
          3.9340107440948486,
          3.137335777282715,
          -0.8293351531028748,
          1.3498384952545166,
          0.34843164682388306,
          -0.2631380558013916,
          2.555433511734009,
          -2.1083805561065674,
          -2.2587063312530518,
          -1.6796417236328125,
          0.8909421563148499,
          -0.9038625359535217,
          -4.7496113777160645,
          -1.5079834461212158,
          2.0833988189697266,
          1.8198083639144897,
          -0.5863828063011169,
          5.043534278869629,
          -1.1041570901870728,
          1.268856406211853,
          4.472812175750732,
          2.314976453781128,
          2.871389389038086,
          -1.2457717657089233,
          1.4704152345657349,
          0.5235806703567505,
          0.06406881660223007,
          1.8189375400543213,
          1.3323721885681152,
          -3.2131123542785645,
          -0.7758387923240662,
          2.84175968170166,
          -2.768226385116577,
          -0.9631362557411194,
          -0.38892099261283875,
          -0.664972186088562,
          1.591035008430481,
          -0.6078722476959229,
          -0.5626543760299683,
          4.224506378173828,
          -0.13816852867603302,
          1.0713958740234375,
          1.4136831760406494,
          0.17217308282852173,
          2.623924493789673,
          -0.07918079197406769,
          -2.135775566101074,
          -1.5172849893569946,
          -0.9525030851364136,
          3.40730357170105,
          -0.05722006410360336,
          0.6687555909156799,
          -0.5588585734367371,
          2.3391337394714355,
          -1.0203120708465576,
          -1.9209944009780884,
          0.26210567355155945,
          1.213679313659668,
          -1.0209773778915405,
          0.9858185052871704,
          -1.1238963603973389,
          1.592403531074524,
          -0.4985162019729614,
          -0.30699360370635986,
          1.6911389827728271,
          1.567525029182434,
          -1.139660120010376,
          -0.45336195826530457,
          0.9201838970184326,
          4.166601657867432,
          -0.5287470817565918,
          3.6734187602996826,
          -0.5315016508102417,
          3.609823226928711,
          -1.788888931274414,
          -0.37437117099761963,
          1.6016627550125122,
          -2.800102949142456,
          1.5437653064727783,
          -1.0785553455352783,
          -3.62605619430542,
          0.9851585030555725,
          -4.045152187347412,
          -2.794022798538208,
          -3.4159064292907715,
          0.04029538109898567,
          1.9275999069213867,
          -1.9229471683502197,
          -0.9372772574424744,
          -1.6146210432052612,
          2.5435564517974854,
          -2.55865478515625
         ]
        }
       ],
       "layout": {
        "legend": {
         "tracegroupgap": 0
        },
        "scene": {
         "domain": {
          "x": [
           0,
           1
          ],
          "y": [
           0,
           1
          ]
         },
         "xaxis": {
          "title": {
           "text": "Dimension 1"
          }
         },
         "yaxis": {
          "title": {
           "text": "Dimension 2"
          }
         },
         "zaxis": {
          "title": {
           "text": "Dimension 3"
          }
         }
        },
        "template": {
         "data": {
          "bar": [
           {
            "error_x": {
             "color": "#2a3f5f"
            },
            "error_y": {
             "color": "#2a3f5f"
            },
            "marker": {
             "line": {
              "color": "#E5ECF6",
              "width": 0.5
             },
             "pattern": {
              "fillmode": "overlay",
              "size": 10,
              "solidity": 0.2
             }
            },
            "type": "bar"
           }
          ],
          "barpolar": [
           {
            "marker": {
             "line": {
              "color": "#E5ECF6",
              "width": 0.5
             },
             "pattern": {
              "fillmode": "overlay",
              "size": 10,
              "solidity": 0.2
             }
            },
            "type": "barpolar"
           }
          ],
          "carpet": [
           {
            "aaxis": {
             "endlinecolor": "#2a3f5f",
             "gridcolor": "white",
             "linecolor": "white",
             "minorgridcolor": "white",
             "startlinecolor": "#2a3f5f"
            },
            "baxis": {
             "endlinecolor": "#2a3f5f",
             "gridcolor": "white",
             "linecolor": "white",
             "minorgridcolor": "white",
             "startlinecolor": "#2a3f5f"
            },
            "type": "carpet"
           }
          ],
          "choropleth": [
           {
            "colorbar": {
             "outlinewidth": 0,
             "ticks": ""
            },
            "type": "choropleth"
           }
          ],
          "contour": [
           {
            "colorbar": {
             "outlinewidth": 0,
             "ticks": ""
            },
            "colorscale": [
             [
              0,
              "#0d0887"
             ],
             [
              0.1111111111111111,
              "#46039f"
             ],
             [
              0.2222222222222222,
              "#7201a8"
             ],
             [
              0.3333333333333333,
              "#9c179e"
             ],
             [
              0.4444444444444444,
              "#bd3786"
             ],
             [
              0.5555555555555556,
              "#d8576b"
             ],
             [
              0.6666666666666666,
              "#ed7953"
             ],
             [
              0.7777777777777778,
              "#fb9f3a"
             ],
             [
              0.8888888888888888,
              "#fdca26"
             ],
             [
              1,
              "#f0f921"
             ]
            ],
            "type": "contour"
           }
          ],
          "contourcarpet": [
           {
            "colorbar": {
             "outlinewidth": 0,
             "ticks": ""
            },
            "type": "contourcarpet"
           }
          ],
          "heatmap": [
           {
            "colorbar": {
             "outlinewidth": 0,
             "ticks": ""
            },
            "colorscale": [
             [
              0,
              "#0d0887"
             ],
             [
              0.1111111111111111,
              "#46039f"
             ],
             [
              0.2222222222222222,
              "#7201a8"
             ],
             [
              0.3333333333333333,
              "#9c179e"
             ],
             [
              0.4444444444444444,
              "#bd3786"
             ],
             [
              0.5555555555555556,
              "#d8576b"
             ],
             [
              0.6666666666666666,
              "#ed7953"
             ],
             [
              0.7777777777777778,
              "#fb9f3a"
             ],
             [
              0.8888888888888888,
              "#fdca26"
             ],
             [
              1,
              "#f0f921"
             ]
            ],
            "type": "heatmap"
           }
          ],
          "heatmapgl": [
           {
            "colorbar": {
             "outlinewidth": 0,
             "ticks": ""
            },
            "colorscale": [
             [
              0,
              "#0d0887"
             ],
             [
              0.1111111111111111,
              "#46039f"
             ],
             [
              0.2222222222222222,
              "#7201a8"
             ],
             [
              0.3333333333333333,
              "#9c179e"
             ],
             [
              0.4444444444444444,
              "#bd3786"
             ],
             [
              0.5555555555555556,
              "#d8576b"
             ],
             [
              0.6666666666666666,
              "#ed7953"
             ],
             [
              0.7777777777777778,
              "#fb9f3a"
             ],
             [
              0.8888888888888888,
              "#fdca26"
             ],
             [
              1,
              "#f0f921"
             ]
            ],
            "type": "heatmapgl"
           }
          ],
          "histogram": [
           {
            "marker": {
             "pattern": {
              "fillmode": "overlay",
              "size": 10,
              "solidity": 0.2
             }
            },
            "type": "histogram"
           }
          ],
          "histogram2d": [
           {
            "colorbar": {
             "outlinewidth": 0,
             "ticks": ""
            },
            "colorscale": [
             [
              0,
              "#0d0887"
             ],
             [
              0.1111111111111111,
              "#46039f"
             ],
             [
              0.2222222222222222,
              "#7201a8"
             ],
             [
              0.3333333333333333,
              "#9c179e"
             ],
             [
              0.4444444444444444,
              "#bd3786"
             ],
             [
              0.5555555555555556,
              "#d8576b"
             ],
             [
              0.6666666666666666,
              "#ed7953"
             ],
             [
              0.7777777777777778,
              "#fb9f3a"
             ],
             [
              0.8888888888888888,
              "#fdca26"
             ],
             [
              1,
              "#f0f921"
             ]
            ],
            "type": "histogram2d"
           }
          ],
          "histogram2dcontour": [
           {
            "colorbar": {
             "outlinewidth": 0,
             "ticks": ""
            },
            "colorscale": [
             [
              0,
              "#0d0887"
             ],
             [
              0.1111111111111111,
              "#46039f"
             ],
             [
              0.2222222222222222,
              "#7201a8"
             ],
             [
              0.3333333333333333,
              "#9c179e"
             ],
             [
              0.4444444444444444,
              "#bd3786"
             ],
             [
              0.5555555555555556,
              "#d8576b"
             ],
             [
              0.6666666666666666,
              "#ed7953"
             ],
             [
              0.7777777777777778,
              "#fb9f3a"
             ],
             [
              0.8888888888888888,
              "#fdca26"
             ],
             [
              1,
              "#f0f921"
             ]
            ],
            "type": "histogram2dcontour"
           }
          ],
          "mesh3d": [
           {
            "colorbar": {
             "outlinewidth": 0,
             "ticks": ""
            },
            "type": "mesh3d"
           }
          ],
          "parcoords": [
           {
            "line": {
             "colorbar": {
              "outlinewidth": 0,
              "ticks": ""
             }
            },
            "type": "parcoords"
           }
          ],
          "pie": [
           {
            "automargin": true,
            "type": "pie"
           }
          ],
          "scatter": [
           {
            "fillpattern": {
             "fillmode": "overlay",
             "size": 10,
             "solidity": 0.2
            },
            "type": "scatter"
           }
          ],
          "scatter3d": [
           {
            "line": {
             "colorbar": {
              "outlinewidth": 0,
              "ticks": ""
             }
            },
            "marker": {
             "colorbar": {
              "outlinewidth": 0,
              "ticks": ""
             }
            },
            "type": "scatter3d"
           }
          ],
          "scattercarpet": [
           {
            "marker": {
             "colorbar": {
              "outlinewidth": 0,
              "ticks": ""
             }
            },
            "type": "scattercarpet"
           }
          ],
          "scattergeo": [
           {
            "marker": {
             "colorbar": {
              "outlinewidth": 0,
              "ticks": ""
             }
            },
            "type": "scattergeo"
           }
          ],
          "scattergl": [
           {
            "marker": {
             "colorbar": {
              "outlinewidth": 0,
              "ticks": ""
             }
            },
            "type": "scattergl"
           }
          ],
          "scattermapbox": [
           {
            "marker": {
             "colorbar": {
              "outlinewidth": 0,
              "ticks": ""
             }
            },
            "type": "scattermapbox"
           }
          ],
          "scatterpolar": [
           {
            "marker": {
             "colorbar": {
              "outlinewidth": 0,
              "ticks": ""
             }
            },
            "type": "scatterpolar"
           }
          ],
          "scatterpolargl": [
           {
            "marker": {
             "colorbar": {
              "outlinewidth": 0,
              "ticks": ""
             }
            },
            "type": "scatterpolargl"
           }
          ],
          "scatterternary": [
           {
            "marker": {
             "colorbar": {
              "outlinewidth": 0,
              "ticks": ""
             }
            },
            "type": "scatterternary"
           }
          ],
          "surface": [
           {
            "colorbar": {
             "outlinewidth": 0,
             "ticks": ""
            },
            "colorscale": [
             [
              0,
              "#0d0887"
             ],
             [
              0.1111111111111111,
              "#46039f"
             ],
             [
              0.2222222222222222,
              "#7201a8"
             ],
             [
              0.3333333333333333,
              "#9c179e"
             ],
             [
              0.4444444444444444,
              "#bd3786"
             ],
             [
              0.5555555555555556,
              "#d8576b"
             ],
             [
              0.6666666666666666,
              "#ed7953"
             ],
             [
              0.7777777777777778,
              "#fb9f3a"
             ],
             [
              0.8888888888888888,
              "#fdca26"
             ],
             [
              1,
              "#f0f921"
             ]
            ],
            "type": "surface"
           }
          ],
          "table": [
           {
            "cells": {
             "fill": {
              "color": "#EBF0F8"
             },
             "line": {
              "color": "white"
             }
            },
            "header": {
             "fill": {
              "color": "#C8D4E3"
             },
             "line": {
              "color": "white"
             }
            },
            "type": "table"
           }
          ]
         },
         "layout": {
          "annotationdefaults": {
           "arrowcolor": "#2a3f5f",
           "arrowhead": 0,
           "arrowwidth": 1
          },
          "autotypenumbers": "strict",
          "coloraxis": {
           "colorbar": {
            "outlinewidth": 0,
            "ticks": ""
           }
          },
          "colorscale": {
           "diverging": [
            [
             0,
             "#8e0152"
            ],
            [
             0.1,
             "#c51b7d"
            ],
            [
             0.2,
             "#de77ae"
            ],
            [
             0.3,
             "#f1b6da"
            ],
            [
             0.4,
             "#fde0ef"
            ],
            [
             0.5,
             "#f7f7f7"
            ],
            [
             0.6,
             "#e6f5d0"
            ],
            [
             0.7,
             "#b8e186"
            ],
            [
             0.8,
             "#7fbc41"
            ],
            [
             0.9,
             "#4d9221"
            ],
            [
             1,
             "#276419"
            ]
           ],
           "sequential": [
            [
             0,
             "#0d0887"
            ],
            [
             0.1111111111111111,
             "#46039f"
            ],
            [
             0.2222222222222222,
             "#7201a8"
            ],
            [
             0.3333333333333333,
             "#9c179e"
            ],
            [
             0.4444444444444444,
             "#bd3786"
            ],
            [
             0.5555555555555556,
             "#d8576b"
            ],
            [
             0.6666666666666666,
             "#ed7953"
            ],
            [
             0.7777777777777778,
             "#fb9f3a"
            ],
            [
             0.8888888888888888,
             "#fdca26"
            ],
            [
             1,
             "#f0f921"
            ]
           ],
           "sequentialminus": [
            [
             0,
             "#0d0887"
            ],
            [
             0.1111111111111111,
             "#46039f"
            ],
            [
             0.2222222222222222,
             "#7201a8"
            ],
            [
             0.3333333333333333,
             "#9c179e"
            ],
            [
             0.4444444444444444,
             "#bd3786"
            ],
            [
             0.5555555555555556,
             "#d8576b"
            ],
            [
             0.6666666666666666,
             "#ed7953"
            ],
            [
             0.7777777777777778,
             "#fb9f3a"
            ],
            [
             0.8888888888888888,
             "#fdca26"
            ],
            [
             1,
             "#f0f921"
            ]
           ]
          },
          "colorway": [
           "#636efa",
           "#EF553B",
           "#00cc96",
           "#ab63fa",
           "#FFA15A",
           "#19d3f3",
           "#FF6692",
           "#B6E880",
           "#FF97FF",
           "#FECB52"
          ],
          "font": {
           "color": "#2a3f5f"
          },
          "geo": {
           "bgcolor": "white",
           "lakecolor": "white",
           "landcolor": "#E5ECF6",
           "showlakes": true,
           "showland": true,
           "subunitcolor": "white"
          },
          "hoverlabel": {
           "align": "left"
          },
          "hovermode": "closest",
          "mapbox": {
           "style": "light"
          },
          "paper_bgcolor": "white",
          "plot_bgcolor": "#E5ECF6",
          "polar": {
           "angularaxis": {
            "gridcolor": "white",
            "linecolor": "white",
            "ticks": ""
           },
           "bgcolor": "#E5ECF6",
           "radialaxis": {
            "gridcolor": "white",
            "linecolor": "white",
            "ticks": ""
           }
          },
          "scene": {
           "xaxis": {
            "backgroundcolor": "#E5ECF6",
            "gridcolor": "white",
            "gridwidth": 2,
            "linecolor": "white",
            "showbackground": true,
            "ticks": "",
            "zerolinecolor": "white"
           },
           "yaxis": {
            "backgroundcolor": "#E5ECF6",
            "gridcolor": "white",
            "gridwidth": 2,
            "linecolor": "white",
            "showbackground": true,
            "ticks": "",
            "zerolinecolor": "white"
           },
           "zaxis": {
            "backgroundcolor": "#E5ECF6",
            "gridcolor": "white",
            "gridwidth": 2,
            "linecolor": "white",
            "showbackground": true,
            "ticks": "",
            "zerolinecolor": "white"
           }
          },
          "shapedefaults": {
           "line": {
            "color": "#2a3f5f"
           }
          },
          "ternary": {
           "aaxis": {
            "gridcolor": "white",
            "linecolor": "white",
            "ticks": ""
           },
           "baxis": {
            "gridcolor": "white",
            "linecolor": "white",
            "ticks": ""
           },
           "bgcolor": "#E5ECF6",
           "caxis": {
            "gridcolor": "white",
            "linecolor": "white",
            "ticks": ""
           }
          },
          "title": {
           "x": 0.05
          },
          "xaxis": {
           "automargin": true,
           "gridcolor": "white",
           "linecolor": "white",
           "ticks": "",
           "title": {
            "standoff": 15
           },
           "zerolinecolor": "white",
           "zerolinewidth": 2
          },
          "yaxis": {
           "automargin": true,
           "gridcolor": "white",
           "linecolor": "white",
           "ticks": "",
           "title": {
            "standoff": 15
           },
           "zerolinecolor": "white",
           "zerolinewidth": 2
          }
         }
        },
        "title": {
         "text": "3D t-SNE Visualization"
        }
       }
      }
     },
     "metadata": {},
     "output_type": "display_data"
    }
   ],
   "source": [
    "model = TSNE(n_components=3, random_state=0)\n",
    "tsne_data = model.fit_transform(b)\n",
    "\n",
    "# Convert the resulting t-SNE output into a DataFrame for easier plotting\n",
    "tsne_df = pd.DataFrame(tsne_data, columns=['Dimension 1', 'Dimension 2', 'Dimension 3'])\n",
    "\n",
    "# Create an interactive 3D scatter plot\n",
    "fig = px.scatter_3d(tsne_df, x='Dimension 1', y='Dimension 2', z='Dimension 3',\n",
    "                    title='3D t-SNE Visualization',\n",
    "                    labels={'Dimension 1': 'Dimension 1', 'Dimension 2': 'Dimension 2', 'Dimension 3': 'Dimension 3'})\n",
    "\n",
    "fig.show()"
   ]
  },
  {
   "cell_type": "markdown",
   "metadata": {},
   "source": [
    "Finally I have plotted the distributions of each numeric column I use."
   ]
  },
  {
   "cell_type": "code",
   "execution_count": 20,
   "metadata": {},
   "outputs": [
    {
     "name": "stderr",
     "output_type": "stream",
     "text": [
      "c:\\Users\\jsull\\anaconda3\\Lib\\site-packages\\seaborn\\_oldcore.py:1119: FutureWarning:\n",
      "\n",
      "use_inf_as_na option is deprecated and will be removed in a future version. Convert inf values to NaN before operating instead.\n",
      "\n",
      "c:\\Users\\jsull\\anaconda3\\Lib\\site-packages\\seaborn\\_oldcore.py:1119: FutureWarning:\n",
      "\n",
      "use_inf_as_na option is deprecated and will be removed in a future version. Convert inf values to NaN before operating instead.\n",
      "\n",
      "c:\\Users\\jsull\\anaconda3\\Lib\\site-packages\\seaborn\\_oldcore.py:1119: FutureWarning:\n",
      "\n",
      "use_inf_as_na option is deprecated and will be removed in a future version. Convert inf values to NaN before operating instead.\n",
      "\n",
      "c:\\Users\\jsull\\anaconda3\\Lib\\site-packages\\seaborn\\_oldcore.py:1119: FutureWarning:\n",
      "\n",
      "use_inf_as_na option is deprecated and will be removed in a future version. Convert inf values to NaN before operating instead.\n",
      "\n",
      "c:\\Users\\jsull\\anaconda3\\Lib\\site-packages\\seaborn\\_oldcore.py:1119: FutureWarning:\n",
      "\n",
      "use_inf_as_na option is deprecated and will be removed in a future version. Convert inf values to NaN before operating instead.\n",
      "\n",
      "c:\\Users\\jsull\\anaconda3\\Lib\\site-packages\\seaborn\\_oldcore.py:1119: FutureWarning:\n",
      "\n",
      "use_inf_as_na option is deprecated and will be removed in a future version. Convert inf values to NaN before operating instead.\n",
      "\n",
      "c:\\Users\\jsull\\anaconda3\\Lib\\site-packages\\seaborn\\_oldcore.py:1119: FutureWarning:\n",
      "\n",
      "use_inf_as_na option is deprecated and will be removed in a future version. Convert inf values to NaN before operating instead.\n",
      "\n",
      "c:\\Users\\jsull\\anaconda3\\Lib\\site-packages\\seaborn\\_oldcore.py:1119: FutureWarning:\n",
      "\n",
      "use_inf_as_na option is deprecated and will be removed in a future version. Convert inf values to NaN before operating instead.\n",
      "\n",
      "c:\\Users\\jsull\\anaconda3\\Lib\\site-packages\\seaborn\\_oldcore.py:1119: FutureWarning:\n",
      "\n",
      "use_inf_as_na option is deprecated and will be removed in a future version. Convert inf values to NaN before operating instead.\n",
      "\n",
      "c:\\Users\\jsull\\anaconda3\\Lib\\site-packages\\seaborn\\_oldcore.py:1119: FutureWarning:\n",
      "\n",
      "use_inf_as_na option is deprecated and will be removed in a future version. Convert inf values to NaN before operating instead.\n",
      "\n"
     ]
    },
    {
     "data": {
      "image/png": "[encoded data removed]",
      "text/plain": [
       "<Figure size 1500x500 with 10 Axes>"
      ]
     },
     "metadata": {},
     "output_type": "display_data"
    }
   ],
   "source": [
    "fig, axes = plt.subplots(2, 5, figsize=(15, 5)) \n",
    "\n",
    "for i, col in enumerate(floats[1:]):\n",
    "    ax = axes[i // 5, i % 5]  \n",
    "    sns.histplot(df[col], ax=ax)\n",
    "    ax.set_title(col)  \n",
    "\n",
    "plt.tight_layout()  \n",
    "plt.show()"
   ]
  }
 ],
 "metadata": {
  "kernelspec": {
   "display_name": "base",
   "language": "python",
   "name": "python3"
  },
  "language_info": {
   "codemirror_mode": {
    "name": "ipython",
    "version": 3
   },
   "file_extension": ".py",
   "mimetype": "text/x-python",
   "name": "python",
   "nbconvert_exporter": "python",
   "pygments_lexer": "ipython3",
   "version": "3.11.7"
  }
 },
 "nbformat": 4,
 "nbformat_minor": 2
}
