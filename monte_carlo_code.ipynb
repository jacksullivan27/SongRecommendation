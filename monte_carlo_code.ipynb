{
 "cells": [
  {
   "cell_type": "markdown",
   "metadata": {},
   "source": [
    "## Monte Carlo Simulation\n",
    "\n",
    "In this notebook I conduct a monte carlo simulation where I take 10 samples from each numeric column 1000 times and find the quantiles of variance of the samples. I will use these quantiles to find the significant level of variance to choose features for my models later on."
   ]
  },
  {
   "cell_type": "code",
   "execution_count": 4,
   "metadata": {},
   "outputs": [],
   "source": [
    "import pandas as pd\n",
    "import numpy as np"
   ]
  },
  {
   "cell_type": "code",
   "execution_count": 5,
   "metadata": {},
   "outputs": [
    {
     "data": {
      "text/html": [
       "<div>\n",
       "<style scoped>\n",
       "    .dataframe tbody tr th:only-of-type {\n",
       "        vertical-align: middle;\n",
       "    }\n",
       "\n",
       "    .dataframe tbody tr th {\n",
       "        vertical-align: top;\n",
       "    }\n",
       "\n",
       "    .dataframe thead th {\n",
       "        text-align: right;\n",
       "    }\n",
       "</style>\n",
       "<table border=\"1\" class=\"dataframe\">\n",
       "  <thead>\n",
       "    <tr style=\"text-align: right;\">\n",
       "      <th></th>\n",
       "      <th>Unnamed: 0</th>\n",
       "      <th>master_idx</th>\n",
       "      <th>artist_name</th>\n",
       "      <th>track_name</th>\n",
       "      <th>track_id</th>\n",
       "      <th>year</th>\n",
       "      <th>genre</th>\n",
       "      <th>popularity</th>\n",
       "      <th>danceability</th>\n",
       "      <th>energy</th>\n",
       "      <th>...</th>\n",
       "      <th>Instrumental</th>\n",
       "      <th>Jazz and Blues</th>\n",
       "      <th>Latin</th>\n",
       "      <th>Miscellaneous</th>\n",
       "      <th>Pop</th>\n",
       "      <th>Reggae and Tropical</th>\n",
       "      <th>Rock</th>\n",
       "      <th>Spiritual and Religious</th>\n",
       "      <th>Theater</th>\n",
       "      <th>World</th>\n",
       "    </tr>\n",
       "  </thead>\n",
       "  <tbody>\n",
       "    <tr>\n",
       "      <th>0</th>\n",
       "      <td>0</td>\n",
       "      <td>0</td>\n",
       "      <td>Jason Mraz</td>\n",
       "      <td>I Won't Give Up</td>\n",
       "      <td>53QF56cjZA9RTuuMZDrSA6</td>\n",
       "      <td>2012</td>\n",
       "      <td>Acoustic</td>\n",
       "      <td>0.68</td>\n",
       "      <td>0.483</td>\n",
       "      <td>0.303</td>\n",
       "      <td>...</td>\n",
       "      <td>0</td>\n",
       "      <td>0</td>\n",
       "      <td>0</td>\n",
       "      <td>0</td>\n",
       "      <td>0</td>\n",
       "      <td>0</td>\n",
       "      <td>0</td>\n",
       "      <td>0</td>\n",
       "      <td>0</td>\n",
       "      <td>0</td>\n",
       "    </tr>\n",
       "    <tr>\n",
       "      <th>1</th>\n",
       "      <td>1</td>\n",
       "      <td>1</td>\n",
       "      <td>Jason Mraz</td>\n",
       "      <td>93 Million Miles</td>\n",
       "      <td>1s8tP3jP4GZcyHDsjvw218</td>\n",
       "      <td>2012</td>\n",
       "      <td>Acoustic</td>\n",
       "      <td>0.50</td>\n",
       "      <td>0.572</td>\n",
       "      <td>0.454</td>\n",
       "      <td>...</td>\n",
       "      <td>0</td>\n",
       "      <td>0</td>\n",
       "      <td>0</td>\n",
       "      <td>0</td>\n",
       "      <td>0</td>\n",
       "      <td>0</td>\n",
       "      <td>0</td>\n",
       "      <td>0</td>\n",
       "      <td>0</td>\n",
       "      <td>0</td>\n",
       "    </tr>\n",
       "    <tr>\n",
       "      <th>2</th>\n",
       "      <td>2</td>\n",
       "      <td>2</td>\n",
       "      <td>Joshua Hyslop</td>\n",
       "      <td>Do Not Let Me Go</td>\n",
       "      <td>7BRCa8MPiyuvr2VU3O9W0F</td>\n",
       "      <td>2012</td>\n",
       "      <td>Acoustic</td>\n",
       "      <td>0.57</td>\n",
       "      <td>0.409</td>\n",
       "      <td>0.234</td>\n",
       "      <td>...</td>\n",
       "      <td>0</td>\n",
       "      <td>0</td>\n",
       "      <td>0</td>\n",
       "      <td>0</td>\n",
       "      <td>0</td>\n",
       "      <td>0</td>\n",
       "      <td>0</td>\n",
       "      <td>0</td>\n",
       "      <td>0</td>\n",
       "      <td>0</td>\n",
       "    </tr>\n",
       "    <tr>\n",
       "      <th>3</th>\n",
       "      <td>3</td>\n",
       "      <td>3</td>\n",
       "      <td>Boyce Avenue</td>\n",
       "      <td>Fast Car</td>\n",
       "      <td>63wsZUhUZLlh1OsyrZq7sz</td>\n",
       "      <td>2012</td>\n",
       "      <td>Acoustic</td>\n",
       "      <td>0.58</td>\n",
       "      <td>0.392</td>\n",
       "      <td>0.251</td>\n",
       "      <td>...</td>\n",
       "      <td>0</td>\n",
       "      <td>0</td>\n",
       "      <td>0</td>\n",
       "      <td>0</td>\n",
       "      <td>0</td>\n",
       "      <td>0</td>\n",
       "      <td>0</td>\n",
       "      <td>0</td>\n",
       "      <td>0</td>\n",
       "      <td>0</td>\n",
       "    </tr>\n",
       "    <tr>\n",
       "      <th>4</th>\n",
       "      <td>4</td>\n",
       "      <td>4</td>\n",
       "      <td>Andrew Belle</td>\n",
       "      <td>Sky's Still Blue</td>\n",
       "      <td>6nXIYClvJAfi6ujLiKqEq8</td>\n",
       "      <td>2012</td>\n",
       "      <td>Acoustic</td>\n",
       "      <td>0.54</td>\n",
       "      <td>0.430</td>\n",
       "      <td>0.791</td>\n",
       "      <td>...</td>\n",
       "      <td>0</td>\n",
       "      <td>0</td>\n",
       "      <td>0</td>\n",
       "      <td>0</td>\n",
       "      <td>0</td>\n",
       "      <td>0</td>\n",
       "      <td>0</td>\n",
       "      <td>0</td>\n",
       "      <td>0</td>\n",
       "      <td>0</td>\n",
       "    </tr>\n",
       "  </tbody>\n",
       "</table>\n",
       "<p>5 rows × 36 columns</p>\n",
       "</div>"
      ],
      "text/plain": [
       "   Unnamed: 0  master_idx    artist_name        track_name  \\\n",
       "0           0           0     Jason Mraz   I Won't Give Up   \n",
       "1           1           1     Jason Mraz  93 Million Miles   \n",
       "2           2           2  Joshua Hyslop  Do Not Let Me Go   \n",
       "3           3           3   Boyce Avenue          Fast Car   \n",
       "4           4           4   Andrew Belle  Sky's Still Blue   \n",
       "\n",
       "                 track_id  year     genre  popularity  danceability  energy  \\\n",
       "0  53QF56cjZA9RTuuMZDrSA6  2012  Acoustic        0.68         0.483   0.303   \n",
       "1  1s8tP3jP4GZcyHDsjvw218  2012  Acoustic        0.50         0.572   0.454   \n",
       "2  7BRCa8MPiyuvr2VU3O9W0F  2012  Acoustic        0.57         0.409   0.234   \n",
       "3  63wsZUhUZLlh1OsyrZq7sz  2012  Acoustic        0.58         0.392   0.251   \n",
       "4  6nXIYClvJAfi6ujLiKqEq8  2012  Acoustic        0.54         0.430   0.791   \n",
       "\n",
       "   ...  Instrumental  Jazz and Blues  Latin  Miscellaneous  Pop  \\\n",
       "0  ...             0               0      0              0    0   \n",
       "1  ...             0               0      0              0    0   \n",
       "2  ...             0               0      0              0    0   \n",
       "3  ...             0               0      0              0    0   \n",
       "4  ...             0               0      0              0    0   \n",
       "\n",
       "   Reggae and Tropical  Rock  Spiritual and Religious  Theater  World  \n",
       "0                    0     0                        0        0      0  \n",
       "1                    0     0                        0        0      0  \n",
       "2                    0     0                        0        0      0  \n",
       "3                    0     0                        0        0      0  \n",
       "4                    0     0                        0        0      0  \n",
       "\n",
       "[5 rows x 36 columns]"
      ]
     },
     "execution_count": 5,
     "metadata": {},
     "output_type": "execute_result"
    }
   ],
   "source": [
    "df = pd.read_csv(r'C:\\Users\\jsull\\UW Work\\Stat 451\\Project\\processed_data.csv')\n",
    "df.head()"
   ]
  },
  {
   "cell_type": "code",
   "execution_count": 16,
   "metadata": {},
   "outputs": [
    {
     "data": {
      "text/plain": [
       "0.38152950974378574"
      ]
     },
     "execution_count": 16,
     "metadata": {},
     "output_type": "execute_result"
    }
   ],
   "source": [
    "# Finding the means of the columns\n",
    "mean_list = []\n",
    "for col in [\"danceability\", \"energy\", \"speechiness\", \"acousticness\", \"instrumentalness\", \"liveness\", \"valence\", 'loudness', 'tempo', 'duration_ms']:\n",
    "    mean_list.append(df[col].mean())\n",
    "sum(mean_list)/len(mean_list)"
   ]
  },
  {
   "cell_type": "code",
   "execution_count": 6,
   "metadata": {},
   "outputs": [
    {
     "name": "stdout",
     "output_type": "stream",
     "text": [
      "{'danceability': 0.013122668888888888, 'energy': 0.026530489444444444, 'speechiness': 0.0003606191555555556, 'acousticness': 0.04500401804348366, 'instrumentalness': 0.03412134705572286, 'liveness': 0.0041157230444444455, 'valence': 0.03393465611111111, 'loudness': 0.001310219118265714, 'tempo': 0.005193332793267071, 'duration_ms': 7.275565316918107e-05}\n"
     ]
    }
   ],
   "source": [
    "# Monte Carlo simulation to determine the 0.05 quantile of the variance of the 10 values selected from each column\n",
    "\n",
    "from joblib import Parallel, delayed\n",
    "\n",
    "columns_of_interest = [\"danceability\", \"energy\", \"speechiness\", \"acousticness\", \"instrumentalness\", \"liveness\", \"valence\", 'loudness', 'tempo', 'duration_ms']\n",
    "\n",
    "# Clean the DataFrame once\n",
    "cleaned_columns = {col: df[col].dropna().values for col in columns_of_interest}\n",
    "\n",
    "# Number of simulations\n",
    "num_simulations = 1000\n",
    "\n",
    "# Function to calculate variances for a column\n",
    "def calculate_variances(values):\n",
    "    variances = []\n",
    "    for _ in range(num_simulations):\n",
    "        sample = np.random.choice(values, 10, replace=False)\n",
    "        variance = np.var(sample, ddof=1)  # Using ddof=1 for sample variance\n",
    "        variances.append(variance)\n",
    "    return variances\n",
    "\n",
    "# Use joblib for parallel processing\n",
    "results = Parallel(n_jobs=-1)(delayed(lambda col: (col, np.quantile(calculate_variances(cleaned_columns[col]), 0.05)))(col) for col in columns_of_interest)\n",
    "\n",
    "# Convert list of tuples to dictionary\n",
    "results_dict = dict(results)\n",
    "\n",
    "# Print the results\n",
    "print(results_dict)\n"
   ]
  },
  {
   "cell_type": "code",
   "execution_count": null,
   "metadata": {},
   "outputs": [],
   "source": [
    "import json\n",
    "# Write dictionary to a JSON file\n",
    "with open(r'C:\\Users\\jsull\\UW Work\\Stat 451\\Project\\monte_carlo.json', 'w') as f:\n",
    "    json.dump(results_dict, f, indent=4)"
   ]
  },
  {
   "cell_type": "code",
   "execution_count": 8,
   "metadata": {},
   "outputs": [
    {
     "name": "stdout",
     "output_type": "stream",
     "text": [
      "{'danceability': 0.2059687, 'energy': 0.30181103000000004, 'speechiness': 0.09452669999999999, 'acousticness': 0.39033502381, 'instrumentalness': 0.33972041278, 'liveness': 0.1976444, 'valence': 0.29951859999999997, 'loudness': 0.08479571222097318, 'tempo': 0.13033426135931808, 'duration_ms': 0.019910233020054603}\n"
     ]
    }
   ],
   "source": [
    "def calculate_average_distance(values):\n",
    "    distances = []\n",
    "    for _ in range(num_simulations):\n",
    "        # Randomly select two points\n",
    "        sample = np.random.choice(values, 2, replace=False)\n",
    "        # Calculate the absolute distance between them\n",
    "        distance = abs(sample[1] - sample[0])\n",
    "        distances.append(distance)\n",
    "    # Calculate and return the average distance\n",
    "    return np.mean(distances)\n",
    "\n",
    "# Use joblib for parallel processing\n",
    "results = Parallel(n_jobs=-1)(delayed(lambda col: (col, calculate_average_distance(cleaned_columns[col])))(col) for col in columns_of_interest)\n",
    "\n",
    "# Convert list of tuples to dictionary\n",
    "distances_dict = dict(results)\n",
    "\n",
    "# Print the results\n",
    "print(distances_dict)\n"
   ]
  },
  {
   "cell_type": "code",
   "execution_count": 12,
   "metadata": {},
   "outputs": [
    {
     "data": {
      "text/plain": [
       "0.2064565073190346"
      ]
     },
     "execution_count": 12,
     "metadata": {},
     "output_type": "execute_result"
    }
   ],
   "source": [
    "np.mean(list(distances_dict.values()))"
   ]
  },
  {
   "cell_type": "code",
   "execution_count": 7,
   "metadata": {},
   "outputs": [
    {
     "name": "stdout",
     "output_type": "stream",
     "text": [
      "{'danceability': 0.013382394999999998, 'energy': 0.025014266666666667, 'speechiness': 0.00042638024999999994, 'acousticness': 0.0484138911527198, 'instrumentalness': 0.03146510005767226, 'liveness': 0.004487286666666666, 'valence': 0.03284678672777778, 'loudness': 0.001398039625570148, 'tempo': 0.005009213793574107, 'duration_ms': 6.857034893928311e-05}\n"
     ]
    }
   ],
   "source": [
    "# check to make sure it opens\n",
    "with open(r'C:\\Users\\jsull\\UW Work\\Stat 451\\Project\\monte_carlo.json', 'r') as f:\n",
    "    data_loaded = json.load(f)\n",
    "\n",
    "print(data_loaded)"
   ]
  }
 ],
 "metadata": {
  "kernelspec": {
   "display_name": "base",
   "language": "python",
   "name": "python3"
  },
  "language_info": {
   "codemirror_mode": {
    "name": "ipython",
    "version": 3
   },
   "file_extension": ".py",
   "mimetype": "text/x-python",
   "name": "python",
   "nbconvert_exporter": "python",
   "pygments_lexer": "ipython3",
   "version": "3.11.7"
  }
 },
 "nbformat": 4,
 "nbformat_minor": 2
}
